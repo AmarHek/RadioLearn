{
 "cells": [
  {
   "cell_type": "code",
   "execution_count": 1,
   "metadata": {
    "collapsed": true,
    "pycharm": {
     "name": "#%%\n"
    }
   },
   "outputs": [],
   "source": [
    "from pymongo import MongoClient\n",
    "import pprint"
   ]
  },
  {
   "cell_type": "code",
   "execution_count": 2,
   "outputs": [],
   "source": [
    "client = MongoClient()"
   ],
   "metadata": {
    "collapsed": false,
    "pycharm": {
     "name": "#%%\n"
    }
   }
  },
  {
   "cell_type": "code",
   "execution_count": 3,
   "outputs": [],
   "source": [
    "db = client.radio"
   ],
   "metadata": {
    "collapsed": false,
    "pycharm": {
     "name": "#%%\n"
    }
   }
  },
  {
   "cell_type": "code",
   "execution_count": 4,
   "outputs": [],
   "source": [
    "materials = db.material"
   ],
   "metadata": {
    "collapsed": false,
    "pycharm": {
     "name": "#%%\n"
    }
   }
  },
  {
   "cell_type": "code",
   "execution_count": 12,
   "outputs": [],
   "source": [
    "variableSkelett = {\n",
    "    \"id\": \"S8\",\n",
    "    \"textBefore\": \"\",\n",
    "    \"textAfter\": \"\",\n",
    "    \"keys\": [\n",
    "        [\"frisch\"],\n",
    "        [\"alt\"]\n",
    "    ],\n",
    "    \"kind\": \"oc\",\n",
    "    \"value\": None,\n",
    "    \"values\": [\"frisch\", \"alt\"]\n",
    "}"
   ],
   "metadata": {
    "collapsed": false,
    "pycharm": {
     "name": "#%%\n"
    }
   }
  },
  {
   "cell_type": "code",
   "execution_count": 13,
   "outputs": [],
   "source": [
    "variablePneumonie = {\n",
    "    \"id\": \"Pn2\",\n",
    "    \"textBefore\": \"\",\n",
    "    \"textAfter\": \"\",\n",
    "    \"keys\": [\n",
    "        [\"OL\", \"Oberfeld\", \"Oberlappen\"],\n",
    "        [\"UL\", \"Unterfeld\", \"Unterlappen\"],\n",
    "        [\"ML\", \"Mittelfeld\", \"Mittellappen\"]\n",
    "    ],\n",
    "    \"kind\": \"mc\",\n",
    "    \"values\": [\n",
    "        [\"OL\", False],\n",
    "        [\"UL\", False],\n",
    "        [\"ML\", False]\n",
    "    ]\n",
    "}"
   ],
   "metadata": {
    "collapsed": false,
    "pycharm": {
     "name": "#%%\n"
    }
   }
  },
  {
   "cell_type": "code",
   "execution_count": 14,
   "outputs": [
    {
     "ename": "SyntaxError",
     "evalue": "unmatched ')' (633049178.py, line 3)",
     "output_type": "error",
     "traceback": [
      "\u001B[1;36m  Cell \u001B[1;32mIn [14], line 3\u001B[1;36m\u001B[0m\n\u001B[1;33m    id = material.get(\"_id\"))\u001B[0m\n\u001B[1;37m                            ^\u001B[0m\n\u001B[1;31mSyntaxError\u001B[0m\u001B[1;31m:\u001B[0m unmatched ')'\n"
     ]
    }
   ],
   "source": [
    "ids = []\n",
    "for material in materials.find({\"judged\": True}):\n",
    "    oid = material.get(\"_id\")\n"
   ],
   "metadata": {
    "collapsed": false,
    "pycharm": {
     "name": "#%%\n"
    }
   }
  },
  {
   "cell_type": "code",
   "execution_count": 6,
   "outputs": [
    {
     "name": "stdout",
     "output_type": "stream",
     "text": [
      "<class 'dict'>\n"
     ]
    }
   ],
   "source": [
    "pprint.pprint(type(materials.find_one()))"
   ],
   "metadata": {
    "collapsed": false,
    "pycharm": {
     "name": "#%%\n"
    }
   }
  },
  {
   "cell_type": "code",
   "execution_count": 11,
   "outputs": [
    {
     "data": {
      "text/plain": "[ObjectId('6319ff9f61d904cea90efafb'),\n ObjectId('6319ff9f61d904cea90efb07'),\n ObjectId('6319ffa061d904cea90efb92'),\n ObjectId('6319ffa061d904cea90efb98'),\n ObjectId('6319ffa061d904cea90efb9e'),\n ObjectId('6319ffa061d904cea90efba4'),\n ObjectId('6319ffa061d904cea90efba8'),\n ObjectId('6319ffa061d904cea90efbae'),\n ObjectId('631a0597daecbb0ad265e8ad'),\n ObjectId('631ae83c8a0ba52d17b5ac2f')]"
     },
     "execution_count": 11,
     "metadata": {},
     "output_type": "execute_result"
    }
   ],
   "source": [
    "ids"
   ],
   "metadata": {
    "collapsed": false,
    "pycharm": {
     "name": "#%%\n"
    }
   }
  },
  {
   "cell_type": "code",
   "execution_count": null,
   "outputs": [],
   "source": [],
   "metadata": {
    "collapsed": false,
    "pycharm": {
     "name": "#%%\n"
    }
   }
  }
 ],
 "metadata": {
  "kernelspec": {
   "display_name": "Python 3",
   "language": "python",
   "name": "python3"
  },
  "language_info": {
   "codemirror_mode": {
    "name": "ipython",
    "version": 2
   },
   "file_extension": ".py",
   "mimetype": "text/x-python",
   "name": "python",
   "nbconvert_exporter": "python",
   "pygments_lexer": "ipython2",
   "version": "2.7.6"
  }
 },
 "nbformat": 4,
 "nbformat_minor": 0
}