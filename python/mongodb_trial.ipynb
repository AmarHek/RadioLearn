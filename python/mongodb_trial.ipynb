{
 "cells": [
  {
   "cell_type": "code",
   "execution_count": 1,
   "metadata": {
    "collapsed": true,
    "pycharm": {
     "name": "#%%\n"
    }
   },
   "outputs": [],
   "source": [
    "from pymongo import MongoClient\n",
    "import pprint"
   ]
  },
  {
   "cell_type": "code",
   "execution_count": 2,
   "outputs": [],
   "source": [
    "client = MongoClient()"
   ],
   "metadata": {
    "collapsed": false,
    "pycharm": {
     "name": "#%%\n"
    }
   }
  },
  {
   "cell_type": "code",
   "execution_count": 3,
   "outputs": [],
   "source": [
    "db = client.radio"
   ],
   "metadata": {
    "collapsed": false,
    "pycharm": {
     "name": "#%%\n"
    }
   }
  },
  {
   "cell_type": "code",
   "execution_count": 4,
   "outputs": [],
   "source": [
    "materials = db.material"
   ],
   "metadata": {
    "collapsed": false,
    "pycharm": {
     "name": "#%%\n"
    }
   }
  },
  {
   "cell_type": "code",
   "execution_count": 6,
   "outputs": [],
   "source": [
    "variableSkelett = {\n",
    "    \"id\": \"S8\",\n",
    "    \"textBefore\": \"\",\n",
    "    \"textAfter\": \"\",\n",
    "    \"keys\": [\n",
    "        [\"frisch\"],\n",
    "        [\"alt\"]\n",
    "    ],\n",
    "    \"kind\": \"oc\",\n",
    "    \"value\": None,\n",
    "    \"values\": [\"frisch\", \"alt\"]\n",
    "}"
   ],
   "metadata": {
    "collapsed": false,
    "pycharm": {
     "name": "#%%\n"
    }
   }
  },
  {
   "cell_type": "code",
   "execution_count": 7,
   "outputs": [],
   "source": [
    "variablePneumonie0 = {\n",
    "    \"id\": \"Pn2\",\n",
    "    \"textBefore\": \"\",\n",
    "    \"textAfter\": \"\",\n",
    "    \"keys\": [\n",
    "        [\"OL\", \"Oberfeld\", \"Oberlappen\"],\n",
    "        [\"UL\", \"Unterfeld\", \"Unterlappen\"],\n",
    "        [\"ML\", \"Mittelfeld\", \"Mittellappen\"]\n",
    "    ],\n",
    "    \"kind\": \"mc\",\n",
    "    \"values\": [\n",
    "        [\"OL\", False],\n",
    "        [\"UL\", False],\n",
    "        [\"ML\", False]\n",
    "    ]\n",
    "}"
   ],
   "metadata": {
    "collapsed": false,
    "pycharm": {
     "name": "#%%\n"
    }
   }
  },
  {
   "cell_type": "code",
   "execution_count": 8,
   "outputs": [],
   "source": [
    "variablePneumonieOL = {\n",
    "    \"id\": \"Pn2\",\n",
    "    \"textBefore\": \"\",\n",
    "    \"textAfter\": \"\",\n",
    "    \"keys\": [\n",
    "        [\"OL\", \"Oberfeld\", \"Oberlappen\"],\n",
    "        [\"UL\", \"Unterfeld\", \"Unterlappen\"],\n",
    "        [\"ML\", \"Mittelfeld\", \"Mittellappen\"]\n",
    "    ],\n",
    "    \"kind\": \"mc\",\n",
    "    \"values\": [\n",
    "        [\"OL\", True],\n",
    "        [\"UL\", False],\n",
    "        [\"ML\", False]\n",
    "    ]\n",
    "}"
   ],
   "metadata": {
    "collapsed": false,
    "pycharm": {
     "name": "#%%\n"
    }
   }
  },
  {
   "cell_type": "code",
   "execution_count": 9,
   "outputs": [],
   "source": [
    "variablePneumonieUL = {\n",
    "    \"id\": \"Pn2\",\n",
    "    \"textBefore\": \"\",\n",
    "    \"textAfter\": \"\",\n",
    "    \"keys\": [\n",
    "        [\"OL\", \"Oberfeld\", \"Oberlappen\"],\n",
    "        [\"UL\", \"Unterfeld\", \"Unterlappen\"],\n",
    "        [\"ML\", \"Mittelfeld\", \"Mittellappen\"]\n",
    "    ],\n",
    "    \"kind\": \"mc\",\n",
    "    \"values\": [\n",
    "        [\"OL\", False],\n",
    "        [\"UL\", True],\n",
    "        [\"ML\", False]\n",
    "    ]\n",
    "}"
   ],
   "metadata": {
    "collapsed": false,
    "pycharm": {
     "name": "#%%\n"
    }
   }
  },
  {
   "cell_type": "code",
   "execution_count": 10,
   "outputs": [],
   "source": [
    "variablePneumonieML = {\n",
    "    \"id\": \"Pn2\",\n",
    "    \"textBefore\": \"\",\n",
    "    \"textAfter\": \"\",\n",
    "    \"keys\": [\n",
    "        [\"OL\", \"Oberfeld\", \"Oberlappen\"],\n",
    "        [\"UL\", \"Unterfeld\", \"Unterlappen\"],\n",
    "        [\"ML\", \"Mittelfeld\", \"Mittellappen\"]\n",
    "    ],\n",
    "    \"kind\": \"mc\",\n",
    "    \"values\": [\n",
    "        [\"OL\", False],\n",
    "        [\"UL\", False],\n",
    "        [\"ML\", True]\n",
    "    ]\n",
    "}"
   ],
   "metadata": {
    "collapsed": false,
    "pycharm": {
     "name": "#%%\n"
    }
   }
  },
  {
   "cell_type": "markdown",
   "source": [],
   "metadata": {
    "collapsed": false,
    "pycharm": {
     "name": "#%% md\n"
    }
   }
  },
  {
   "cell_type": "code",
   "execution_count": 11,
   "outputs": [],
   "source": [
    "oids = []\n",
    "for material in materials.find({\"judged\": True}):\n",
    "    oid = material.get(\"_id\")\n",
    "    oids.append(oid)"
   ],
   "metadata": {
    "collapsed": false,
    "pycharm": {
     "name": "#%%\n"
    }
   }
  },
  {
   "cell_type": "code",
   "execution_count": 12,
   "outputs": [],
   "source": [
    "for oid in oids:\n",
    "    material = materials.find_one({\"_id\": oid})\n",
    "\n",
    "    # get variables of selectable 'Fraktur' in category 'Skelett'\n",
    "    skellyVariables = material.get(\"deepDocTemplate\").get(\"parts\")[23].get(\"selectables\")[11].get(\"variables\")\n",
    "    # if amount of variables is 2 or less, then no variable has been added yet (as of old template). Only then to be added to variables\n",
    "    if len(skellyVariables) < 3:\n",
    "        skellyVariables.append(variableSkelett)\n",
    "\n",
    "    # get variables of value 'Pneumonie' in first group of category 'Lunge'\n",
    "    pneumoVariables = material.get(\"deepDocTemplate\").get(\"parts\")[16].get(\"selectables\")[0].get(\"options\")[1].get(\"variables\")\n",
    "\n",
    "    # only change the variable if the underlying variable is still oc, otherwise no changes required\n",
    "    if pneumoVariables[2].get(\"kind\") == \"oc\":\n",
    "        # check value of variables with index 2 ('OL'/'UL'/ML') and replace said variable based on value\n",
    "        if pneumoVariables[2].get(\"value\") == 'UL':\n",
    "            pneumoVariables[2] = variablePneumonieUL\n",
    "        elif pneumoVariables[2].get(\"value\") == 'ML':\n",
    "            pneumoVariables[2] = variablePneumonieML\n",
    "        elif pneumoVariables[2].get(\"value\") == 'OL':\n",
    "            pneumoVariables[2] = variablePneumonieOL\n",
    "        else:\n",
    "            pneumoVariables[2] = variablePneumonie0\n",
    "\n",
    "    materials.replace_one({\"_id\": oid}, material)"
   ],
   "metadata": {
    "collapsed": false,
    "pycharm": {
     "name": "#%%\n"
    }
   }
  },
  {
   "cell_type": "code",
   "execution_count": 38,
   "outputs": [
    {
     "name": "stdout",
     "output_type": "stream",
     "text": [
      "{'kind': 'category',\n",
      " 'name': 'Skelett',\n",
      " 'optional': True,\n",
      " 'selectables': [{'exclusions': ['Rest'],\n",
      "                  'keys': ['keine Degenerationen',\n",
      "                           'keine Degeneration',\n",
      "                           'Skelett unauffällig'],\n",
      "                  'kind': 'box',\n",
      "                  'name': 'Skelett unauffällig',\n",
      "                  'normal': True,\n",
      "                  'text': 'Keine relevanten degenerativen Veränderungen.',\n",
      "                  'value': True,\n",
      "                  'variables': []},\n",
      "                 {'enumeration': 'SZ0',\n",
      "                  'exclusions': ['Skelett unauffällig'],\n",
      "                  'keys': ['Gefügestörung'],\n",
      "                  'kind': 'box',\n",
      "                  'name': 'Gefügestörung',\n",
      "                  'normal': False,\n",
      "                  'text': 'des Gefüges %S8% [auf Höhe %S9%]',\n",
      "                  'value': False,\n",
      "                  'variables': [{'id': 'S8',\n",
      "                                 'keys': [['gering'], ['mäßig'], ['deutlich']],\n",
      "                                 'kind': 'oc',\n",
      "                                 'textAfter': '',\n",
      "                                 'textBefore': '',\n",
      "                                 'value': None,\n",
      "                                 'values': ['Gering', 'Mäßig', 'Deutlich']},\n",
      "                                {'id': 'S9',\n",
      "                                 'keys': [],\n",
      "                                 'kind': 'text',\n",
      "                                 'textAfter': '',\n",
      "                                 'textBefore': 'auf Höhe ',\n",
      "                                 'value': ''}]},\n",
      "                 {'enumeration': 'SZ0',\n",
      "                  'exclusions': ['Skelett unauffällig'],\n",
      "                  'keys': ['Osteochondrose'],\n",
      "                  'kind': 'box',\n",
      "                  'name': 'Osteochondrose',\n",
      "                  'normal': False,\n",
      "                  'text': 'Osteochondrose %S10% [auf Höhe %S11%]',\n",
      "                  'value': False,\n",
      "                  'variables': [{'id': 'S10',\n",
      "                                 'keys': [['gering'], ['mäßig'], ['deutlich']],\n",
      "                                 'kind': 'oc',\n",
      "                                 'textAfter': '',\n",
      "                                 'textBefore': '',\n",
      "                                 'value': None,\n",
      "                                 'values': ['Gering', 'Mäßig', 'Deutlich']},\n",
      "                                {'id': 'S11',\n",
      "                                 'keys': [],\n",
      "                                 'kind': 'text',\n",
      "                                 'textAfter': '',\n",
      "                                 'textBefore': 'auf Höhe ',\n",
      "                                 'value': ''}]},\n",
      "                 {'enumeration': 'SZ0',\n",
      "                  'exclusions': ['Skelett unauffällig'],\n",
      "                  'keys': ['Spondylosis deformans'],\n",
      "                  'kind': 'box',\n",
      "                  'name': 'Spondylosis deformans',\n",
      "                  'normal': False,\n",
      "                  'text': 'Spondylosis deformans',\n",
      "                  'value': False,\n",
      "                  'variables': []},\n",
      "                 {'exclusions': ['Skelett unauffällig'],\n",
      "                  'keys': ['Metastasen'],\n",
      "                  'kind': 'box',\n",
      "                  'name': 'Metastasen',\n",
      "                  'normal': False,\n",
      "                  'text': 'Metastasen vorhanden %S12% [auf Höhe %S13%]',\n",
      "                  'value': False,\n",
      "                  'variables': [{'id': 'S12',\n",
      "                                 'keys': [['osteoblastisch'],\n",
      "                                          ['osteoklastisch'],\n",
      "                                          ['gemischt']],\n",
      "                                 'kind': 'oc',\n",
      "                                 'textAfter': '',\n",
      "                                 'textBefore': '',\n",
      "                                 'value': None,\n",
      "                                 'values': ['osteoblastisch',\n",
      "                                            'osteoklastisch',\n",
      "                                            'gemischt']},\n",
      "                                {'id': 'S13',\n",
      "                                 'keys': [],\n",
      "                                 'kind': 'text',\n",
      "                                 'textAfter': '',\n",
      "                                 'textBefore': 'auf Höhe ',\n",
      "                                 'value': ''}]},\n",
      "                 {'enumeration': 'SZ0',\n",
      "                  'exclusions': ['Skelett unauffällig'],\n",
      "                  'keys': ['Skoliose'],\n",
      "                  'kind': 'box',\n",
      "                  'name': 'Skoliose',\n",
      "                  'normal': False,\n",
      "                  'text': 'Skoliose %S14%',\n",
      "                  'value': False,\n",
      "                  'variables': [{'id': 'S14',\n",
      "                                 'keys': [['rechtskonvex'],\n",
      "                                          ['linkskonvex'],\n",
      "                                          ['s-förmig']],\n",
      "                                 'kind': 'oc',\n",
      "                                 'textAfter': '',\n",
      "                                 'textBefore': '',\n",
      "                                 'value': None,\n",
      "                                 'values': ['rechtskonvex',\n",
      "                                            'linkskonvex',\n",
      "                                            's-förmig']}]},\n",
      "                 {'enumeration': 'SZ0',\n",
      "                  'exclusions': ['Skelett unauffällig'],\n",
      "                  'keys': ['Halsrippe'],\n",
      "                  'kind': 'box',\n",
      "                  'name': 'Halsrippe',\n",
      "                  'normal': False,\n",
      "                  'text': 'der Halsrippe [(%S15%)]',\n",
      "                  'value': False,\n",
      "                  'variables': [{'id': 'S15',\n",
      "                                 'keys': [['rechts'],\n",
      "                                          ['links'],\n",
      "                                          ['beidseitig', 'bds']],\n",
      "                                 'kind': 'oc',\n",
      "                                 'textAfter': '',\n",
      "                                 'textBefore': '',\n",
      "                                 'value': None,\n",
      "                                 'values': ['re.', 'li.', 'bds.']}]},\n",
      "                 {'enumeration': 'SZ0',\n",
      "                  'exclusions': ['Skelett unauffällig'],\n",
      "                  'keys': ['Trichterbrust'],\n",
      "                  'kind': 'box',\n",
      "                  'name': 'Trichterbrust',\n",
      "                  'normal': False,\n",
      "                  'value': False,\n",
      "                  'variables': []},\n",
      "                 {'enumeration': 'SZ0',\n",
      "                  'exclusions': ['Skelett unauffällig'],\n",
      "                  'keys': ['Spondylarthrose', 'Spondilarthrose'],\n",
      "                  'kind': 'box',\n",
      "                  'name': 'Spondylarthrose',\n",
      "                  'normal': False,\n",
      "                  'text': 'der Wirbelsäule [(%S1%)]',\n",
      "                  'value': False,\n",
      "                  'variables': [{'id': 'S1',\n",
      "                                 'keys': [['gering'], ['mäßig'], ['deutlich']],\n",
      "                                 'kind': 'oc',\n",
      "                                 'textAfter': '',\n",
      "                                 'textBefore': '',\n",
      "                                 'value': None,\n",
      "                                 'values': ['Gering', 'Mäßig', 'Deutlich']}]},\n",
      "                 {'enumeration': 'SZ0',\n",
      "                  'exclusions': ['Skelett unauffällig'],\n",
      "                  'keys': ['ACG Arthrose', 'ACG-Arthrose'],\n",
      "                  'kind': 'box',\n",
      "                  'name': 'ACG-Arthrose',\n",
      "                  'normal': False,\n",
      "                  'text': 'des AC-Gelenks (%S2%, %S3%)',\n",
      "                  'value': False,\n",
      "                  'variables': [{'id': 'S2',\n",
      "                                 'keys': [['rechts'],\n",
      "                                          ['links'],\n",
      "                                          ['beidseitig', 'bds']],\n",
      "                                 'kind': 'oc',\n",
      "                                 'textAfter': '',\n",
      "                                 'textBefore': '',\n",
      "                                 'value': None,\n",
      "                                 'values': ['re.', 'li.', 'bds.']},\n",
      "                                {'id': 'S3',\n",
      "                                 'keys': [['gering'], ['mäßig'], ['deutlich']],\n",
      "                                 'kind': 'oc',\n",
      "                                 'textAfter': '',\n",
      "                                 'textBefore': '',\n",
      "                                 'value': None,\n",
      "                                 'values': ['Gering', 'Mäßig', 'Deutlich']}]},\n",
      "                 {'enumeration': 'SZ0',\n",
      "                  'exclusions': ['Skelett unauffällig'],\n",
      "                  'keys': ['Omarthrose'],\n",
      "                  'kind': 'box',\n",
      "                  'name': 'Omarthrose',\n",
      "                  'normal': False,\n",
      "                  'text': 'des Schultergelenks [%S4%,] [%S5%].',\n",
      "                  'value': False,\n",
      "                  'variables': [{'id': 'S4',\n",
      "                                 'keys': [['rechts'],\n",
      "                                          ['links'],\n",
      "                                          ['beidseitig', 'bds']],\n",
      "                                 'kind': 'oc',\n",
      "                                 'textAfter': '',\n",
      "                                 'textBefore': '',\n",
      "                                 'value': None,\n",
      "                                 'values': ['re.', 'li.', 'bds.']},\n",
      "                                {'id': 'S5',\n",
      "                                 'keys': [['gering'], ['mäßig'], ['deutlich']],\n",
      "                                 'kind': 'oc',\n",
      "                                 'textAfter': '',\n",
      "                                 'textBefore': '',\n",
      "                                 'value': None,\n",
      "                                 'values': ['Gering', 'Mäßig', 'Deutlich']}]},\n",
      "                 {'exclusions': ['Skelett unauffällig'],\n",
      "                  'judgementText': 'Fraktur [von %S6%] [%S7% Dislokation.]',\n",
      "                  'keys': ['Fraktur'],\n",
      "                  'kind': 'box',\n",
      "                  'name': 'Fraktur',\n",
      "                  'normal': False,\n",
      "                  'text': 'Fraktur [von %S6% ][%S7% Dislokation.]',\n",
      "                  'value': False,\n",
      "                  'variables': [{'id': 'S6',\n",
      "                                 'keys': [['mit'], ['ohne']],\n",
      "                                 'kind': 'oc',\n",
      "                                 'textAfter': ' Dislokation',\n",
      "                                 'textBefore': '',\n",
      "                                 'value': None,\n",
      "                                 'values': ['mit', 'ohne']},\n",
      "                                {'id': 'S7',\n",
      "                                 'keys': [],\n",
      "                                 'kind': 'text',\n",
      "                                 'textAfter': '',\n",
      "                                 'textBefore': 'im ',\n",
      "                                 'value': ''},\n",
      "                                {'id': 'S8',\n",
      "                                 'keys': [['frisch'], ['alt']],\n",
      "                                 'kind': 'oc',\n",
      "                                 'textAfter': '',\n",
      "                                 'textBefore': '',\n",
      "                                 'value': None,\n",
      "                                 'values': ['frisch', 'alt']}]}]}\n"
     ]
    }
   ],
   "source": [
    "oid = oids[1]\n",
    "material = materials.find_one({\"_id\": oid})\n",
    "skellyVariables = material.get(\"deepDocTemplate\").get(\"parts\")[23].get(\"selectables\")[11].get(\"variables\")\n",
    "if len(skellyVariables) < 3:\n",
    "    skellyVariables.append(variableSkelett)\n",
    "\n",
    "pneumoVariable = material.get(\"deepDocTemplate\").get(\"parts\")[16].get(\"selectables\")[0].get(\"options\")[1].get(\"variables\")\n",
    "pprint.pprint(material.get(\"deepDocTemplate\").get(\"parts\")[23])"
   ],
   "metadata": {
    "collapsed": false,
    "pycharm": {
     "name": "#%%\n"
    }
   }
  },
  {
   "cell_type": "markdown",
   "source": [
    "### Was zu tun ist:\n",
    "In Aufnahmetyp: Thorax im Liegen --> Thorax a.p. umbenennen\n",
    "--> Name und Keys, sonst nix\n",
    "Index Aufnahmetyp: 0\n",
    "Index der Gruppe bei Sel: 0\n",
    "Index Thorax im Liegen in Gruppe: 2\n",
    "Wichtig: Value der Gruppe prüfen und auch umbenennen, wenn nötig!\n",
    "\n",
    "In Fremdkörper:\n",
    "Andere Fremdkörper 2 hinzufügen\n",
    "--> einfach nur neues Selectable appenden, ez pz\n",
    "Index Instrumentierung: 2\n",
    "Einfach an Selectables appenden"
   ],
   "metadata": {
    "collapsed": false,
    "pycharm": {
     "name": "#%% md\n"
    }
   }
  },
  {
   "cell_type": "code",
   "execution_count": 7,
   "outputs": [],
   "source": [
    "fremdkoerper2 = {\n",
    "    \"kind\": \"box\",\n",
    "    \"name\": \"Andere Fremdkörper 2\",\n",
    "    \"value\": False,\n",
    "    \"normal\": False,\n",
    "    \"exclusions\": [\"Keine\"],\n",
    "    \"variables\": [\n",
    "        {\n",
    "            \"id\": \"I42\",\n",
    "            \"textBefore\": \"\",\n",
    "            \"textAfter\": \"\",\n",
    "            \"keys\": [\n",
    "                [\"medizinisch\", \"Kabel\"],\n",
    "                [\"nicht medizinisch\", \"Metallsplitter\"]\n",
    "            ],\n",
    "            \"kind\": \"oc\",\n",
    "            \"value\": None,\n",
    "            \"values\": [\"medizinisch (Kabel etc.)\", \"nicht medizinisch (Metallsplitter etc.)\"]\n",
    "        },\n",
    "        {\n",
    "            \"id\": \"I43\",\n",
    "            \"textBefore\": \"\",\n",
    "            \"textAfter\": \"\",\n",
    "            \"keys\": [\n",
    "                [\"extrakorporal\"],\n",
    "                [\"intrakorporal\"]\n",
    "            ],\n",
    "            \"kind\": \"oc\",\n",
    "            \"value\": None,\n",
    "            \"values\": [\"extrakorporal\", \"intrakorporal\"]\n",
    "        }\n",
    "    ],\n",
    "    \"keys\": [\"Andere Fremdkörper 2\", \"Anderer Fremdkörper 2\", \"Andere Fremdkörper Zwei\"],\n",
    "    \"text\": \"Weitere Fremdkörper [%I42%][, %I43%]\"\n",
    "}"
   ],
   "metadata": {
    "collapsed": false,
    "pycharm": {
     "name": "#%%\n"
    }
   }
  },
  {
   "cell_type": "code",
   "execution_count": 6,
   "outputs": [],
   "source": [
    "oids = []\n",
    "for material in materials.find({\"judged\": True}):\n",
    "    oid = material.get(\"_id\")\n",
    "    oids.append(oid)"
   ],
   "metadata": {
    "collapsed": false,
    "pycharm": {
     "name": "#%%\n"
    }
   }
  },
  {
   "cell_type": "code",
   "execution_count": 11,
   "outputs": [],
   "source": [
    "for oid in oids:\n",
    "    material = materials.find_one({\"_id\": oid})\n",
    "\n",
    "    # get selectable \"Thorax im Liegen\" from parts\n",
    "    thoraxLiegen = material.get(\"deepDocTemplate\").get(\"parts\")[0].get(\"selectables\")[0].get(\"options\")[2]\n",
    "    if thoraxLiegen[\"name\"] == \"Thorax im Liegen\":\n",
    "        thoraxLiegen[\"name\"] = \"Thorax a.p.\"\n",
    "        thoraxLiegen[\"keys\"] = [\"Thorax a.p., Thorax ap\"]\n",
    "\n",
    "    # get Instrumentierung\n",
    "    instrumentierungSel = material[\"deepDocTemplate\"][\"parts\"][2][\"selectables\"]\n",
    "    if len(instrumentierungSel) <= 23:\n",
    "        instrumentierungSel.append(fremdkoerper2)\n",
    "\n",
    "    materials.replace_one({\"_id\": oid}, material)"
   ],
   "metadata": {
    "collapsed": false,
    "pycharm": {
     "name": "#%%\n"
    }
   }
  },
  {
   "cell_type": "code",
   "execution_count": null,
   "outputs": [],
   "source": [],
   "metadata": {
    "collapsed": false,
    "pycharm": {
     "name": "#%%\n"
    }
   }
  }
 ],
 "metadata": {
  "kernelspec": {
   "display_name": "Python 3",
   "language": "python",
   "name": "python3"
  },
  "language_info": {
   "codemirror_mode": {
    "name": "ipython",
    "version": 2
   },
   "file_extension": ".py",
   "mimetype": "text/x-python",
   "name": "python",
   "nbconvert_exporter": "python",
   "pygments_lexer": "ipython2",
   "version": "2.7.6"
  }
 },
 "nbformat": 4,
 "nbformat_minor": 0
}