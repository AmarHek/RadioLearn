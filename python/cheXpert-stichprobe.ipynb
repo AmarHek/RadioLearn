{
 "cells": [
  {
   "cell_type": "code",
   "execution_count": 1,
   "metadata": {
    "collapsed": true
   },
   "outputs": [],
   "source": [
    "import pandas as pd\n",
    "import numpy as np"
   ]
  },
  {
   "cell_type": "code",
   "execution_count": 3,
   "outputs": [],
   "source": [
    "train_csv = \"F:/CheXpert-v1.0/train.csv\"\n",
    "valid_csv = \"F:/CheXpert-v1.0/valid.csv\""
   ],
   "metadata": {
    "collapsed": false,
    "pycharm": {
     "name": "#%%\n"
    }
   }
  },
  {
   "cell_type": "code",
   "execution_count": 4,
   "outputs": [],
   "source": [
    "valid_set = pd.read_csv(valid_csv)"
   ],
   "metadata": {
    "collapsed": false,
    "pycharm": {
     "name": "#%%\n"
    }
   }
  },
  {
   "cell_type": "code",
   "execution_count": 5,
   "outputs": [
    {
     "data": {
      "text/plain": "                                                  Path     Sex  Age  \\\n0    CheXpert-v1.0/valid/patient64541/study1/view1_...    Male   73   \n1    CheXpert-v1.0/valid/patient64542/study1/view1_...    Male   70   \n2    CheXpert-v1.0/valid/patient64542/study1/view2_...    Male   70   \n3    CheXpert-v1.0/valid/patient64543/study1/view1_...    Male   85   \n4    CheXpert-v1.0/valid/patient64544/study1/view1_...  Female   42   \n..                                                 ...     ...  ...   \n229  CheXpert-v1.0/valid/patient64736/study1/view1_...  Female   57   \n230  CheXpert-v1.0/valid/patient64737/study1/view1_...    Male   65   \n231  CheXpert-v1.0/valid/patient64738/study1/view1_...    Male   71   \n232  CheXpert-v1.0/valid/patient64739/study1/view1_...  Female   45   \n233  CheXpert-v1.0/valid/patient64740/study1/view1_...    Male   90   \n\n    Frontal/Lateral AP/PA  No Finding  Enlarged Cardiomediastinum  \\\n0           Frontal    AP         0.0                         1.0   \n1           Frontal    PA         0.0                         0.0   \n2           Lateral   NaN         0.0                         0.0   \n3           Frontal    AP         0.0                         1.0   \n4           Frontal    AP         1.0                         0.0   \n..              ...   ...         ...                         ...   \n229         Frontal    AP         0.0                         0.0   \n230         Frontal    AP         0.0                         0.0   \n231         Frontal    AP         0.0                         1.0   \n232         Frontal    AP         0.0                         1.0   \n233         Frontal    AP         0.0                         1.0   \n\n     Cardiomegaly  Lung Opacity  Lung Lesion  Edema  Consolidation  Pneumonia  \\\n0             1.0           1.0          0.0    0.0            0.0        0.0   \n1             0.0           0.0          0.0    0.0            0.0        0.0   \n2             0.0           0.0          0.0    0.0            0.0        0.0   \n3             0.0           1.0          0.0    1.0            0.0        0.0   \n4             0.0           0.0          0.0    0.0            0.0        0.0   \n..            ...           ...          ...    ...            ...        ...   \n229           0.0           0.0          0.0    0.0            0.0        0.0   \n230           0.0           0.0          0.0    0.0            0.0        0.0   \n231           1.0           1.0          0.0    1.0            0.0        0.0   \n232           0.0           0.0          0.0    0.0            0.0        0.0   \n233           0.0           1.0          0.0    0.0            0.0        0.0   \n\n     Atelectasis  Pneumothorax  Pleural Effusion  Pleural Other  Fracture  \\\n0            0.0           0.0               0.0            0.0       0.0   \n1            0.0           0.0               0.0            0.0       0.0   \n2            0.0           0.0               0.0            0.0       0.0   \n3            0.0           0.0               0.0            0.0       0.0   \n4            0.0           0.0               0.0            0.0       0.0   \n..           ...           ...               ...            ...       ...   \n229          0.0           0.0               0.0            0.0       0.0   \n230          0.0           0.0               0.0            0.0       0.0   \n231          0.0           0.0               0.0            0.0       0.0   \n232          0.0           0.0               0.0            0.0       0.0   \n233          1.0           0.0               1.0            0.0       0.0   \n\n     Support Devices  \n0                0.0  \n1                1.0  \n2                1.0  \n3                0.0  \n4                0.0  \n..               ...  \n229              1.0  \n230              1.0  \n231              1.0  \n232              0.0  \n233              0.0  \n\n[234 rows x 19 columns]",
      "text/html": "<div>\n<style scoped>\n    .dataframe tbody tr th:only-of-type {\n        vertical-align: middle;\n    }\n\n    .dataframe tbody tr th {\n        vertical-align: top;\n    }\n\n    .dataframe thead th {\n        text-align: right;\n    }\n</style>\n<table border=\"1\" class=\"dataframe\">\n  <thead>\n    <tr style=\"text-align: right;\">\n      <th></th>\n      <th>Path</th>\n      <th>Sex</th>\n      <th>Age</th>\n      <th>Frontal/Lateral</th>\n      <th>AP/PA</th>\n      <th>No Finding</th>\n      <th>Enlarged Cardiomediastinum</th>\n      <th>Cardiomegaly</th>\n      <th>Lung Opacity</th>\n      <th>Lung Lesion</th>\n      <th>Edema</th>\n      <th>Consolidation</th>\n      <th>Pneumonia</th>\n      <th>Atelectasis</th>\n      <th>Pneumothorax</th>\n      <th>Pleural Effusion</th>\n      <th>Pleural Other</th>\n      <th>Fracture</th>\n      <th>Support Devices</th>\n    </tr>\n  </thead>\n  <tbody>\n    <tr>\n      <th>0</th>\n      <td>CheXpert-v1.0/valid/patient64541/study1/view1_...</td>\n      <td>Male</td>\n      <td>73</td>\n      <td>Frontal</td>\n      <td>AP</td>\n      <td>0.0</td>\n      <td>1.0</td>\n      <td>1.0</td>\n      <td>1.0</td>\n      <td>0.0</td>\n      <td>0.0</td>\n      <td>0.0</td>\n      <td>0.0</td>\n      <td>0.0</td>\n      <td>0.0</td>\n      <td>0.0</td>\n      <td>0.0</td>\n      <td>0.0</td>\n      <td>0.0</td>\n    </tr>\n    <tr>\n      <th>1</th>\n      <td>CheXpert-v1.0/valid/patient64542/study1/view1_...</td>\n      <td>Male</td>\n      <td>70</td>\n      <td>Frontal</td>\n      <td>PA</td>\n      <td>0.0</td>\n      <td>0.0</td>\n      <td>0.0</td>\n      <td>0.0</td>\n      <td>0.0</td>\n      <td>0.0</td>\n      <td>0.0</td>\n      <td>0.0</td>\n      <td>0.0</td>\n      <td>0.0</td>\n      <td>0.0</td>\n      <td>0.0</td>\n      <td>0.0</td>\n      <td>1.0</td>\n    </tr>\n    <tr>\n      <th>2</th>\n      <td>CheXpert-v1.0/valid/patient64542/study1/view2_...</td>\n      <td>Male</td>\n      <td>70</td>\n      <td>Lateral</td>\n      <td>NaN</td>\n      <td>0.0</td>\n      <td>0.0</td>\n      <td>0.0</td>\n      <td>0.0</td>\n      <td>0.0</td>\n      <td>0.0</td>\n      <td>0.0</td>\n      <td>0.0</td>\n      <td>0.0</td>\n      <td>0.0</td>\n      <td>0.0</td>\n      <td>0.0</td>\n      <td>0.0</td>\n      <td>1.0</td>\n    </tr>\n    <tr>\n      <th>3</th>\n      <td>CheXpert-v1.0/valid/patient64543/study1/view1_...</td>\n      <td>Male</td>\n      <td>85</td>\n      <td>Frontal</td>\n      <td>AP</td>\n      <td>0.0</td>\n      <td>1.0</td>\n      <td>0.0</td>\n      <td>1.0</td>\n      <td>0.0</td>\n      <td>1.0</td>\n      <td>0.0</td>\n      <td>0.0</td>\n      <td>0.0</td>\n      <td>0.0</td>\n      <td>0.0</td>\n      <td>0.0</td>\n      <td>0.0</td>\n      <td>0.0</td>\n    </tr>\n    <tr>\n      <th>4</th>\n      <td>CheXpert-v1.0/valid/patient64544/study1/view1_...</td>\n      <td>Female</td>\n      <td>42</td>\n      <td>Frontal</td>\n      <td>AP</td>\n      <td>1.0</td>\n      <td>0.0</td>\n      <td>0.0</td>\n      <td>0.0</td>\n      <td>0.0</td>\n      <td>0.0</td>\n      <td>0.0</td>\n      <td>0.0</td>\n      <td>0.0</td>\n      <td>0.0</td>\n      <td>0.0</td>\n      <td>0.0</td>\n      <td>0.0</td>\n      <td>0.0</td>\n    </tr>\n    <tr>\n      <th>...</th>\n      <td>...</td>\n      <td>...</td>\n      <td>...</td>\n      <td>...</td>\n      <td>...</td>\n      <td>...</td>\n      <td>...</td>\n      <td>...</td>\n      <td>...</td>\n      <td>...</td>\n      <td>...</td>\n      <td>...</td>\n      <td>...</td>\n      <td>...</td>\n      <td>...</td>\n      <td>...</td>\n      <td>...</td>\n      <td>...</td>\n      <td>...</td>\n    </tr>\n    <tr>\n      <th>229</th>\n      <td>CheXpert-v1.0/valid/patient64736/study1/view1_...</td>\n      <td>Female</td>\n      <td>57</td>\n      <td>Frontal</td>\n      <td>AP</td>\n      <td>0.0</td>\n      <td>0.0</td>\n      <td>0.0</td>\n      <td>0.0</td>\n      <td>0.0</td>\n      <td>0.0</td>\n      <td>0.0</td>\n      <td>0.0</td>\n      <td>0.0</td>\n      <td>0.0</td>\n      <td>0.0</td>\n      <td>0.0</td>\n      <td>0.0</td>\n      <td>1.0</td>\n    </tr>\n    <tr>\n      <th>230</th>\n      <td>CheXpert-v1.0/valid/patient64737/study1/view1_...</td>\n      <td>Male</td>\n      <td>65</td>\n      <td>Frontal</td>\n      <td>AP</td>\n      <td>0.0</td>\n      <td>0.0</td>\n      <td>0.0</td>\n      <td>0.0</td>\n      <td>0.0</td>\n      <td>0.0</td>\n      <td>0.0</td>\n      <td>0.0</td>\n      <td>0.0</td>\n      <td>0.0</td>\n      <td>0.0</td>\n      <td>0.0</td>\n      <td>0.0</td>\n      <td>1.0</td>\n    </tr>\n    <tr>\n      <th>231</th>\n      <td>CheXpert-v1.0/valid/patient64738/study1/view1_...</td>\n      <td>Male</td>\n      <td>71</td>\n      <td>Frontal</td>\n      <td>AP</td>\n      <td>0.0</td>\n      <td>1.0</td>\n      <td>1.0</td>\n      <td>1.0</td>\n      <td>0.0</td>\n      <td>1.0</td>\n      <td>0.0</td>\n      <td>0.0</td>\n      <td>0.0</td>\n      <td>0.0</td>\n      <td>0.0</td>\n      <td>0.0</td>\n      <td>0.0</td>\n      <td>1.0</td>\n    </tr>\n    <tr>\n      <th>232</th>\n      <td>CheXpert-v1.0/valid/patient64739/study1/view1_...</td>\n      <td>Female</td>\n      <td>45</td>\n      <td>Frontal</td>\n      <td>AP</td>\n      <td>0.0</td>\n      <td>1.0</td>\n      <td>0.0</td>\n      <td>0.0</td>\n      <td>0.0</td>\n      <td>0.0</td>\n      <td>0.0</td>\n      <td>0.0</td>\n      <td>0.0</td>\n      <td>0.0</td>\n      <td>0.0</td>\n      <td>0.0</td>\n      <td>0.0</td>\n      <td>0.0</td>\n    </tr>\n    <tr>\n      <th>233</th>\n      <td>CheXpert-v1.0/valid/patient64740/study1/view1_...</td>\n      <td>Male</td>\n      <td>90</td>\n      <td>Frontal</td>\n      <td>AP</td>\n      <td>0.0</td>\n      <td>1.0</td>\n      <td>0.0</td>\n      <td>1.0</td>\n      <td>0.0</td>\n      <td>0.0</td>\n      <td>0.0</td>\n      <td>0.0</td>\n      <td>1.0</td>\n      <td>0.0</td>\n      <td>1.0</td>\n      <td>0.0</td>\n      <td>0.0</td>\n      <td>0.0</td>\n    </tr>\n  </tbody>\n</table>\n<p>234 rows × 19 columns</p>\n</div>"
     },
     "execution_count": 5,
     "metadata": {},
     "output_type": "execute_result"
    }
   ],
   "source": [
    "valid_set"
   ],
   "metadata": {
    "collapsed": false,
    "pycharm": {
     "name": "#%%\n"
    }
   }
  },
  {
   "cell_type": "code",
   "execution_count": 6,
   "outputs": [
    {
     "data": {
      "text/plain": "                                                     Path     Sex  Age  \\\n0       CheXpert-v1.0/train/patient00001/study1/view1_...  Female   68   \n1       CheXpert-v1.0/train/patient00002/study2/view1_...  Female   87   \n2       CheXpert-v1.0/train/patient00002/study1/view1_...  Female   83   \n3       CheXpert-v1.0/train/patient00002/study1/view2_...  Female   83   \n4       CheXpert-v1.0/train/patient00003/study1/view1_...    Male   41   \n...                                                   ...     ...  ...   \n223409  CheXpert-v1.0/train/patient64537/study2/view1_...    Male   59   \n223410  CheXpert-v1.0/train/patient64537/study1/view1_...    Male   59   \n223411  CheXpert-v1.0/train/patient64538/study1/view1_...  Female    0   \n223412  CheXpert-v1.0/train/patient64539/study1/view1_...  Female    0   \n223413  CheXpert-v1.0/train/patient64540/study1/view1_...  Female    0   \n\n       Frontal/Lateral AP/PA  No Finding  Enlarged Cardiomediastinum  \\\n0              Frontal    AP         1.0                         NaN   \n1              Frontal    AP         NaN                         NaN   \n2              Frontal    AP         NaN                         NaN   \n3              Lateral   NaN         NaN                         NaN   \n4              Frontal    AP         NaN                         NaN   \n...                ...   ...         ...                         ...   \n223409         Frontal    AP         NaN                         NaN   \n223410         Frontal    AP         NaN                         NaN   \n223411         Frontal    AP         NaN                         NaN   \n223412         Frontal    AP         NaN                         NaN   \n223413         Frontal    AP         1.0                         NaN   \n\n        Cardiomegaly  Lung Opacity  Lung Lesion  Edema  Consolidation  \\\n0                NaN           NaN          NaN    NaN            NaN   \n1               -1.0           1.0          NaN   -1.0           -1.0   \n2                NaN           1.0          NaN    NaN           -1.0   \n3                NaN           1.0          NaN    NaN           -1.0   \n4                NaN           NaN          NaN    1.0            NaN   \n...              ...           ...          ...    ...            ...   \n223409           NaN          -1.0          NaN    NaN            NaN   \n223410           NaN          -1.0          NaN    NaN            NaN   \n223411           NaN           NaN          NaN   -1.0            NaN   \n223412           1.0           1.0          NaN    NaN            NaN   \n223413           NaN           NaN          NaN    NaN            NaN   \n\n        Pneumonia  Atelectasis  Pneumothorax  Pleural Effusion  Pleural Other  \\\n0             NaN          NaN           0.0               NaN            NaN   \n1             NaN         -1.0           NaN              -1.0            NaN   \n2             NaN          NaN           NaN               NaN            NaN   \n3             NaN          NaN           NaN               NaN            NaN   \n4             NaN          NaN           0.0               NaN            NaN   \n...           ...          ...           ...               ...            ...   \n223409        NaN         -1.0           0.0               1.0            NaN   \n223410        0.0         -1.0           NaN              -1.0            NaN   \n223411        NaN          NaN           NaN               NaN            NaN   \n223412       -1.0          1.0           0.0               NaN            NaN   \n223413        NaN          NaN           0.0               NaN            NaN   \n\n        Fracture  Support Devices  \n0            NaN              1.0  \n1            1.0              NaN  \n2            1.0              NaN  \n3            1.0              NaN  \n4            NaN              NaN  \n...          ...              ...  \n223409       NaN              NaN  \n223410       NaN              NaN  \n223411       NaN              NaN  \n223412       NaN              0.0  \n223413       NaN              NaN  \n\n[223414 rows x 19 columns]",
      "text/html": "<div>\n<style scoped>\n    .dataframe tbody tr th:only-of-type {\n        vertical-align: middle;\n    }\n\n    .dataframe tbody tr th {\n        vertical-align: top;\n    }\n\n    .dataframe thead th {\n        text-align: right;\n    }\n</style>\n<table border=\"1\" class=\"dataframe\">\n  <thead>\n    <tr style=\"text-align: right;\">\n      <th></th>\n      <th>Path</th>\n      <th>Sex</th>\n      <th>Age</th>\n      <th>Frontal/Lateral</th>\n      <th>AP/PA</th>\n      <th>No Finding</th>\n      <th>Enlarged Cardiomediastinum</th>\n      <th>Cardiomegaly</th>\n      <th>Lung Opacity</th>\n      <th>Lung Lesion</th>\n      <th>Edema</th>\n      <th>Consolidation</th>\n      <th>Pneumonia</th>\n      <th>Atelectasis</th>\n      <th>Pneumothorax</th>\n      <th>Pleural Effusion</th>\n      <th>Pleural Other</th>\n      <th>Fracture</th>\n      <th>Support Devices</th>\n    </tr>\n  </thead>\n  <tbody>\n    <tr>\n      <th>0</th>\n      <td>CheXpert-v1.0/train/patient00001/study1/view1_...</td>\n      <td>Female</td>\n      <td>68</td>\n      <td>Frontal</td>\n      <td>AP</td>\n      <td>1.0</td>\n      <td>NaN</td>\n      <td>NaN</td>\n      <td>NaN</td>\n      <td>NaN</td>\n      <td>NaN</td>\n      <td>NaN</td>\n      <td>NaN</td>\n      <td>NaN</td>\n      <td>0.0</td>\n      <td>NaN</td>\n      <td>NaN</td>\n      <td>NaN</td>\n      <td>1.0</td>\n    </tr>\n    <tr>\n      <th>1</th>\n      <td>CheXpert-v1.0/train/patient00002/study2/view1_...</td>\n      <td>Female</td>\n      <td>87</td>\n      <td>Frontal</td>\n      <td>AP</td>\n      <td>NaN</td>\n      <td>NaN</td>\n      <td>-1.0</td>\n      <td>1.0</td>\n      <td>NaN</td>\n      <td>-1.0</td>\n      <td>-1.0</td>\n      <td>NaN</td>\n      <td>-1.0</td>\n      <td>NaN</td>\n      <td>-1.0</td>\n      <td>NaN</td>\n      <td>1.0</td>\n      <td>NaN</td>\n    </tr>\n    <tr>\n      <th>2</th>\n      <td>CheXpert-v1.0/train/patient00002/study1/view1_...</td>\n      <td>Female</td>\n      <td>83</td>\n      <td>Frontal</td>\n      <td>AP</td>\n      <td>NaN</td>\n      <td>NaN</td>\n      <td>NaN</td>\n      <td>1.0</td>\n      <td>NaN</td>\n      <td>NaN</td>\n      <td>-1.0</td>\n      <td>NaN</td>\n      <td>NaN</td>\n      <td>NaN</td>\n      <td>NaN</td>\n      <td>NaN</td>\n      <td>1.0</td>\n      <td>NaN</td>\n    </tr>\n    <tr>\n      <th>3</th>\n      <td>CheXpert-v1.0/train/patient00002/study1/view2_...</td>\n      <td>Female</td>\n      <td>83</td>\n      <td>Lateral</td>\n      <td>NaN</td>\n      <td>NaN</td>\n      <td>NaN</td>\n      <td>NaN</td>\n      <td>1.0</td>\n      <td>NaN</td>\n      <td>NaN</td>\n      <td>-1.0</td>\n      <td>NaN</td>\n      <td>NaN</td>\n      <td>NaN</td>\n      <td>NaN</td>\n      <td>NaN</td>\n      <td>1.0</td>\n      <td>NaN</td>\n    </tr>\n    <tr>\n      <th>4</th>\n      <td>CheXpert-v1.0/train/patient00003/study1/view1_...</td>\n      <td>Male</td>\n      <td>41</td>\n      <td>Frontal</td>\n      <td>AP</td>\n      <td>NaN</td>\n      <td>NaN</td>\n      <td>NaN</td>\n      <td>NaN</td>\n      <td>NaN</td>\n      <td>1.0</td>\n      <td>NaN</td>\n      <td>NaN</td>\n      <td>NaN</td>\n      <td>0.0</td>\n      <td>NaN</td>\n      <td>NaN</td>\n      <td>NaN</td>\n      <td>NaN</td>\n    </tr>\n    <tr>\n      <th>...</th>\n      <td>...</td>\n      <td>...</td>\n      <td>...</td>\n      <td>...</td>\n      <td>...</td>\n      <td>...</td>\n      <td>...</td>\n      <td>...</td>\n      <td>...</td>\n      <td>...</td>\n      <td>...</td>\n      <td>...</td>\n      <td>...</td>\n      <td>...</td>\n      <td>...</td>\n      <td>...</td>\n      <td>...</td>\n      <td>...</td>\n      <td>...</td>\n    </tr>\n    <tr>\n      <th>223409</th>\n      <td>CheXpert-v1.0/train/patient64537/study2/view1_...</td>\n      <td>Male</td>\n      <td>59</td>\n      <td>Frontal</td>\n      <td>AP</td>\n      <td>NaN</td>\n      <td>NaN</td>\n      <td>NaN</td>\n      <td>-1.0</td>\n      <td>NaN</td>\n      <td>NaN</td>\n      <td>NaN</td>\n      <td>NaN</td>\n      <td>-1.0</td>\n      <td>0.0</td>\n      <td>1.0</td>\n      <td>NaN</td>\n      <td>NaN</td>\n      <td>NaN</td>\n    </tr>\n    <tr>\n      <th>223410</th>\n      <td>CheXpert-v1.0/train/patient64537/study1/view1_...</td>\n      <td>Male</td>\n      <td>59</td>\n      <td>Frontal</td>\n      <td>AP</td>\n      <td>NaN</td>\n      <td>NaN</td>\n      <td>NaN</td>\n      <td>-1.0</td>\n      <td>NaN</td>\n      <td>NaN</td>\n      <td>NaN</td>\n      <td>0.0</td>\n      <td>-1.0</td>\n      <td>NaN</td>\n      <td>-1.0</td>\n      <td>NaN</td>\n      <td>NaN</td>\n      <td>NaN</td>\n    </tr>\n    <tr>\n      <th>223411</th>\n      <td>CheXpert-v1.0/train/patient64538/study1/view1_...</td>\n      <td>Female</td>\n      <td>0</td>\n      <td>Frontal</td>\n      <td>AP</td>\n      <td>NaN</td>\n      <td>NaN</td>\n      <td>NaN</td>\n      <td>NaN</td>\n      <td>NaN</td>\n      <td>-1.0</td>\n      <td>NaN</td>\n      <td>NaN</td>\n      <td>NaN</td>\n      <td>NaN</td>\n      <td>NaN</td>\n      <td>NaN</td>\n      <td>NaN</td>\n      <td>NaN</td>\n    </tr>\n    <tr>\n      <th>223412</th>\n      <td>CheXpert-v1.0/train/patient64539/study1/view1_...</td>\n      <td>Female</td>\n      <td>0</td>\n      <td>Frontal</td>\n      <td>AP</td>\n      <td>NaN</td>\n      <td>NaN</td>\n      <td>1.0</td>\n      <td>1.0</td>\n      <td>NaN</td>\n      <td>NaN</td>\n      <td>NaN</td>\n      <td>-1.0</td>\n      <td>1.0</td>\n      <td>0.0</td>\n      <td>NaN</td>\n      <td>NaN</td>\n      <td>NaN</td>\n      <td>0.0</td>\n    </tr>\n    <tr>\n      <th>223413</th>\n      <td>CheXpert-v1.0/train/patient64540/study1/view1_...</td>\n      <td>Female</td>\n      <td>0</td>\n      <td>Frontal</td>\n      <td>AP</td>\n      <td>1.0</td>\n      <td>NaN</td>\n      <td>NaN</td>\n      <td>NaN</td>\n      <td>NaN</td>\n      <td>NaN</td>\n      <td>NaN</td>\n      <td>NaN</td>\n      <td>NaN</td>\n      <td>0.0</td>\n      <td>NaN</td>\n      <td>NaN</td>\n      <td>NaN</td>\n      <td>NaN</td>\n    </tr>\n  </tbody>\n</table>\n<p>223414 rows × 19 columns</p>\n</div>"
     },
     "execution_count": 6,
     "metadata": {},
     "output_type": "execute_result"
    }
   ],
   "source": [
    "train_set = pd.read_csv(train_csv)\n",
    "train_set"
   ],
   "metadata": {
    "collapsed": false,
    "pycharm": {
     "name": "#%%\n"
    }
   }
  },
  {
   "cell_type": "code",
   "execution_count": null,
   "outputs": [],
   "source": [],
   "metadata": {
    "collapsed": false,
    "pycharm": {
     "name": "#%%\n"
    }
   }
  }
 ],
 "metadata": {
  "kernelspec": {
   "display_name": "Python 3",
   "language": "python",
   "name": "python3"
  },
  "language_info": {
   "codemirror_mode": {
    "name": "ipython",
    "version": 2
   },
   "file_extension": ".py",
   "mimetype": "text/x-python",
   "name": "python",
   "nbconvert_exporter": "python",
   "pygments_lexer": "ipython2",
   "version": "2.7.6"
  }
 },
 "nbformat": 4,
 "nbformat_minor": 0
}