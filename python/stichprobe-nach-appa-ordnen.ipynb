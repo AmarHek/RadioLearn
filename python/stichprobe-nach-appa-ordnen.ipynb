{
 "cells": [
  {
   "cell_type": "code",
   "execution_count": 2,
   "metadata": {
    "collapsed": true
   },
   "outputs": [],
   "source": [
    "import pandas as pd\n",
    "import numpy as np"
   ]
  },
  {
   "cell_type": "code",
   "execution_count": 7,
   "outputs": [],
   "source": [
    "directory = \"D:/Nextcloud/Forschung/Xray/Data/StichprobeRadiolearn/\""
   ],
   "metadata": {
    "collapsed": false,
    "pycharm": {
     "name": "#%%\n"
    }
   }
  },
  {
   "cell_type": "code",
   "execution_count": 8,
   "outputs": [],
   "source": [
    "data = pd.read_csv(directory + \"verarbeitetes_sample.csv\")"
   ],
   "metadata": {
    "collapsed": false,
    "pycharm": {
     "name": "#%%\n"
    }
   }
  },
  {
   "cell_type": "code",
   "execution_count": 9,
   "outputs": [
    {
     "data": {
      "text/plain": "      Unnamed: 0       Patient                                   File  \\\n0              0  patient00091  patient00091_study1_view1_frontal.jpg   \n1              1  patient00138  patient00138_study5_view1_frontal.jpg   \n2              2  patient00138  patient00138_study5_view2_lateral.jpg   \n3              3  patient00330  patient00330_study2_view1_frontal.jpg   \n4              4  patient00330  patient00330_study2_view2_lateral.jpg   \n...          ...           ...                                    ...   \n1091        1091  patient61437  patient61437_study1_view1_frontal.jpg   \n1092        1092  patient61653  patient61653_study1_view1_frontal.jpg   \n1093        1093  patient62320  patient62320_study1_view1_frontal.jpg   \n1094        1094  patient62355  patient62355_study1_view1_frontal.jpg   \n1095        1095  patient62491  patient62491_study1_view1_frontal.jpg   \n\n                                            Pathologies  Age Frontal/Lateral  \\\n0                                                   NaN   39         Frontal   \n1                           Lung Opacity, Consolidation   61         Frontal   \n2                           Lung Opacity, Consolidation   61         Lateral   \n3     Enlarged Cardiomediastinum, Pleural Effusion, ...   56         Frontal   \n4     Enlarged Cardiomediastinum, Pleural Effusion, ...   56         Lateral   \n...                                                 ...  ...             ...   \n1091    Lung Opacity, Pleural Effusion, Support Devices   44         Frontal   \n1092                      Lung Opacity, Support Devices   64         Frontal   \n1093                     Consolidation, Support Devices   58         Frontal   \n1094  Lung Opacity, Consolidation, Atelectasis, Pleu...   63         Frontal   \n1095  Enlarged Cardiomediastinum, Edema, Pneumothora...   60         Frontal   \n\n     AP/PA  \n0       PA  \n1       PA  \n2        0  \n3       PA  \n4        0  \n...    ...  \n1091    AP  \n1092    AP  \n1093    AP  \n1094    AP  \n1095    AP  \n\n[1096 rows x 7 columns]",
      "text/html": "<div>\n<style scoped>\n    .dataframe tbody tr th:only-of-type {\n        vertical-align: middle;\n    }\n\n    .dataframe tbody tr th {\n        vertical-align: top;\n    }\n\n    .dataframe thead th {\n        text-align: right;\n    }\n</style>\n<table border=\"1\" class=\"dataframe\">\n  <thead>\n    <tr style=\"text-align: right;\">\n      <th></th>\n      <th>Unnamed: 0</th>\n      <th>Patient</th>\n      <th>File</th>\n      <th>Pathologies</th>\n      <th>Age</th>\n      <th>Frontal/Lateral</th>\n      <th>AP/PA</th>\n    </tr>\n  </thead>\n  <tbody>\n    <tr>\n      <th>0</th>\n      <td>0</td>\n      <td>patient00091</td>\n      <td>patient00091_study1_view1_frontal.jpg</td>\n      <td>NaN</td>\n      <td>39</td>\n      <td>Frontal</td>\n      <td>PA</td>\n    </tr>\n    <tr>\n      <th>1</th>\n      <td>1</td>\n      <td>patient00138</td>\n      <td>patient00138_study5_view1_frontal.jpg</td>\n      <td>Lung Opacity, Consolidation</td>\n      <td>61</td>\n      <td>Frontal</td>\n      <td>PA</td>\n    </tr>\n    <tr>\n      <th>2</th>\n      <td>2</td>\n      <td>patient00138</td>\n      <td>patient00138_study5_view2_lateral.jpg</td>\n      <td>Lung Opacity, Consolidation</td>\n      <td>61</td>\n      <td>Lateral</td>\n      <td>0</td>\n    </tr>\n    <tr>\n      <th>3</th>\n      <td>3</td>\n      <td>patient00330</td>\n      <td>patient00330_study2_view1_frontal.jpg</td>\n      <td>Enlarged Cardiomediastinum, Pleural Effusion, ...</td>\n      <td>56</td>\n      <td>Frontal</td>\n      <td>PA</td>\n    </tr>\n    <tr>\n      <th>4</th>\n      <td>4</td>\n      <td>patient00330</td>\n      <td>patient00330_study2_view2_lateral.jpg</td>\n      <td>Enlarged Cardiomediastinum, Pleural Effusion, ...</td>\n      <td>56</td>\n      <td>Lateral</td>\n      <td>0</td>\n    </tr>\n    <tr>\n      <th>...</th>\n      <td>...</td>\n      <td>...</td>\n      <td>...</td>\n      <td>...</td>\n      <td>...</td>\n      <td>...</td>\n      <td>...</td>\n    </tr>\n    <tr>\n      <th>1091</th>\n      <td>1091</td>\n      <td>patient61437</td>\n      <td>patient61437_study1_view1_frontal.jpg</td>\n      <td>Lung Opacity, Pleural Effusion, Support Devices</td>\n      <td>44</td>\n      <td>Frontal</td>\n      <td>AP</td>\n    </tr>\n    <tr>\n      <th>1092</th>\n      <td>1092</td>\n      <td>patient61653</td>\n      <td>patient61653_study1_view1_frontal.jpg</td>\n      <td>Lung Opacity, Support Devices</td>\n      <td>64</td>\n      <td>Frontal</td>\n      <td>AP</td>\n    </tr>\n    <tr>\n      <th>1093</th>\n      <td>1093</td>\n      <td>patient62320</td>\n      <td>patient62320_study1_view1_frontal.jpg</td>\n      <td>Consolidation, Support Devices</td>\n      <td>58</td>\n      <td>Frontal</td>\n      <td>AP</td>\n    </tr>\n    <tr>\n      <th>1094</th>\n      <td>1094</td>\n      <td>patient62355</td>\n      <td>patient62355_study1_view1_frontal.jpg</td>\n      <td>Lung Opacity, Consolidation, Atelectasis, Pleu...</td>\n      <td>63</td>\n      <td>Frontal</td>\n      <td>AP</td>\n    </tr>\n    <tr>\n      <th>1095</th>\n      <td>1095</td>\n      <td>patient62491</td>\n      <td>patient62491_study1_view1_frontal.jpg</td>\n      <td>Enlarged Cardiomediastinum, Edema, Pneumothora...</td>\n      <td>60</td>\n      <td>Frontal</td>\n      <td>AP</td>\n    </tr>\n  </tbody>\n</table>\n<p>1096 rows × 7 columns</p>\n</div>"
     },
     "execution_count": 9,
     "metadata": {},
     "output_type": "execute_result"
    }
   ],
   "source": [
    "data"
   ],
   "metadata": {
    "collapsed": false,
    "pycharm": {
     "name": "#%%\n"
    }
   }
  },
  {
   "cell_type": "code",
   "execution_count": 10,
   "outputs": [],
   "source": [
    "source = directory + \"Zwei-Ebenen-Thorax\""
   ],
   "metadata": {
    "collapsed": false,
    "pycharm": {
     "name": "#%%\n"
    }
   }
  },
  {
   "cell_type": "code",
   "execution_count": null,
   "outputs": [],
   "source": [],
   "metadata": {
    "collapsed": false,
    "pycharm": {
     "name": "#%%\n"
    }
   }
  }
 ],
 "metadata": {
  "kernelspec": {
   "display_name": "Python 3",
   "language": "python",
   "name": "python3"
  },
  "language_info": {
   "codemirror_mode": {
    "name": "ipython",
    "version": 2
   },
   "file_extension": ".py",
   "mimetype": "text/x-python",
   "name": "python",
   "nbconvert_exporter": "python",
   "pygments_lexer": "ipython2",
   "version": "2.7.6"
  }
 },
 "nbformat": 4,
 "nbformat_minor": 0
}