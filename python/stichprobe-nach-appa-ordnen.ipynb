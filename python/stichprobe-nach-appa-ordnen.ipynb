{
 "cells": [
  {
   "cell_type": "code",
   "execution_count": 57,
   "metadata": {
    "collapsed": true,
    "pycharm": {
     "name": "#%%\n"
    }
   },
   "outputs": [],
   "source": [
    "import pandas as pd\n",
    "import numpy as np\n",
    "import os\n",
    "import shutil"
   ]
  },
  {
   "cell_type": "code",
   "execution_count": 2,
   "outputs": [],
   "source": [
    "directory = \"D:/Nextcloud/Forschung/Xray/Data/StichprobeRadiolearn/\""
   ],
   "metadata": {
    "collapsed": false,
    "pycharm": {
     "name": "#%%\n"
    }
   }
  },
  {
   "cell_type": "code",
   "execution_count": 3,
   "outputs": [],
   "source": [
    "data = pd.read_csv(directory + \"verarbeitetes_sample.csv\")"
   ],
   "metadata": {
    "collapsed": false,
    "pycharm": {
     "name": "#%%\n"
    }
   }
  },
  {
   "cell_type": "code",
   "execution_count": 4,
   "outputs": [
    {
     "data": {
      "text/plain": "      Unnamed: 0       Patient                                   File  \\\n0              0  patient00091  patient00091_study1_view1_frontal.jpg   \n1              1  patient00138  patient00138_study5_view1_frontal.jpg   \n2              2  patient00138  patient00138_study5_view2_lateral.jpg   \n3              3  patient00330  patient00330_study2_view1_frontal.jpg   \n4              4  patient00330  patient00330_study2_view2_lateral.jpg   \n...          ...           ...                                    ...   \n1091        1091  patient61437  patient61437_study1_view1_frontal.jpg   \n1092        1092  patient61653  patient61653_study1_view1_frontal.jpg   \n1093        1093  patient62320  patient62320_study1_view1_frontal.jpg   \n1094        1094  patient62355  patient62355_study1_view1_frontal.jpg   \n1095        1095  patient62491  patient62491_study1_view1_frontal.jpg   \n\n                                            Pathologies  Age Frontal/Lateral  \\\n0                                                   NaN   39         Frontal   \n1                           Lung Opacity, Consolidation   61         Frontal   \n2                           Lung Opacity, Consolidation   61         Lateral   \n3     Enlarged Cardiomediastinum, Pleural Effusion, ...   56         Frontal   \n4     Enlarged Cardiomediastinum, Pleural Effusion, ...   56         Lateral   \n...                                                 ...  ...             ...   \n1091    Lung Opacity, Pleural Effusion, Support Devices   44         Frontal   \n1092                      Lung Opacity, Support Devices   64         Frontal   \n1093                     Consolidation, Support Devices   58         Frontal   \n1094  Lung Opacity, Consolidation, Atelectasis, Pleu...   63         Frontal   \n1095  Enlarged Cardiomediastinum, Edema, Pneumothora...   60         Frontal   \n\n     AP/PA  \n0       PA  \n1       PA  \n2        0  \n3       PA  \n4        0  \n...    ...  \n1091    AP  \n1092    AP  \n1093    AP  \n1094    AP  \n1095    AP  \n\n[1096 rows x 7 columns]",
      "text/html": "<div>\n<style scoped>\n    .dataframe tbody tr th:only-of-type {\n        vertical-align: middle;\n    }\n\n    .dataframe tbody tr th {\n        vertical-align: top;\n    }\n\n    .dataframe thead th {\n        text-align: right;\n    }\n</style>\n<table border=\"1\" class=\"dataframe\">\n  <thead>\n    <tr style=\"text-align: right;\">\n      <th></th>\n      <th>Unnamed: 0</th>\n      <th>Patient</th>\n      <th>File</th>\n      <th>Pathologies</th>\n      <th>Age</th>\n      <th>Frontal/Lateral</th>\n      <th>AP/PA</th>\n    </tr>\n  </thead>\n  <tbody>\n    <tr>\n      <th>0</th>\n      <td>0</td>\n      <td>patient00091</td>\n      <td>patient00091_study1_view1_frontal.jpg</td>\n      <td>NaN</td>\n      <td>39</td>\n      <td>Frontal</td>\n      <td>PA</td>\n    </tr>\n    <tr>\n      <th>1</th>\n      <td>1</td>\n      <td>patient00138</td>\n      <td>patient00138_study5_view1_frontal.jpg</td>\n      <td>Lung Opacity, Consolidation</td>\n      <td>61</td>\n      <td>Frontal</td>\n      <td>PA</td>\n    </tr>\n    <tr>\n      <th>2</th>\n      <td>2</td>\n      <td>patient00138</td>\n      <td>patient00138_study5_view2_lateral.jpg</td>\n      <td>Lung Opacity, Consolidation</td>\n      <td>61</td>\n      <td>Lateral</td>\n      <td>0</td>\n    </tr>\n    <tr>\n      <th>3</th>\n      <td>3</td>\n      <td>patient00330</td>\n      <td>patient00330_study2_view1_frontal.jpg</td>\n      <td>Enlarged Cardiomediastinum, Pleural Effusion, ...</td>\n      <td>56</td>\n      <td>Frontal</td>\n      <td>PA</td>\n    </tr>\n    <tr>\n      <th>4</th>\n      <td>4</td>\n      <td>patient00330</td>\n      <td>patient00330_study2_view2_lateral.jpg</td>\n      <td>Enlarged Cardiomediastinum, Pleural Effusion, ...</td>\n      <td>56</td>\n      <td>Lateral</td>\n      <td>0</td>\n    </tr>\n    <tr>\n      <th>...</th>\n      <td>...</td>\n      <td>...</td>\n      <td>...</td>\n      <td>...</td>\n      <td>...</td>\n      <td>...</td>\n      <td>...</td>\n    </tr>\n    <tr>\n      <th>1091</th>\n      <td>1091</td>\n      <td>patient61437</td>\n      <td>patient61437_study1_view1_frontal.jpg</td>\n      <td>Lung Opacity, Pleural Effusion, Support Devices</td>\n      <td>44</td>\n      <td>Frontal</td>\n      <td>AP</td>\n    </tr>\n    <tr>\n      <th>1092</th>\n      <td>1092</td>\n      <td>patient61653</td>\n      <td>patient61653_study1_view1_frontal.jpg</td>\n      <td>Lung Opacity, Support Devices</td>\n      <td>64</td>\n      <td>Frontal</td>\n      <td>AP</td>\n    </tr>\n    <tr>\n      <th>1093</th>\n      <td>1093</td>\n      <td>patient62320</td>\n      <td>patient62320_study1_view1_frontal.jpg</td>\n      <td>Consolidation, Support Devices</td>\n      <td>58</td>\n      <td>Frontal</td>\n      <td>AP</td>\n    </tr>\n    <tr>\n      <th>1094</th>\n      <td>1094</td>\n      <td>patient62355</td>\n      <td>patient62355_study1_view1_frontal.jpg</td>\n      <td>Lung Opacity, Consolidation, Atelectasis, Pleu...</td>\n      <td>63</td>\n      <td>Frontal</td>\n      <td>AP</td>\n    </tr>\n    <tr>\n      <th>1095</th>\n      <td>1095</td>\n      <td>patient62491</td>\n      <td>patient62491_study1_view1_frontal.jpg</td>\n      <td>Enlarged Cardiomediastinum, Edema, Pneumothora...</td>\n      <td>60</td>\n      <td>Frontal</td>\n      <td>AP</td>\n    </tr>\n  </tbody>\n</table>\n<p>1096 rows × 7 columns</p>\n</div>"
     },
     "execution_count": 4,
     "metadata": {},
     "output_type": "execute_result"
    }
   ],
   "source": [
    "data"
   ],
   "metadata": {
    "collapsed": false,
    "pycharm": {
     "name": "#%%\n"
    }
   }
  },
  {
   "cell_type": "code",
   "execution_count": 19,
   "outputs": [
    {
     "data": {
      "text/plain": "'D:/Nextcloud/Forschung/Xray/Data/StichprobeRadiolearn/Zwei-Ebenen-Thorax'"
     },
     "execution_count": 19,
     "metadata": {},
     "output_type": "execute_result"
    }
   ],
   "source": [
    "source = os.path.join(directory, \"Zwei-Ebenen-Thorax\")\n",
    "source"
   ],
   "metadata": {
    "collapsed": false,
    "pycharm": {
     "name": "#%%\n"
    }
   }
  },
  {
   "cell_type": "code",
   "execution_count": 13,
   "outputs": [
    {
     "data": {
      "text/plain": "'D:/Nextcloud/Forschung/Xray/Data/StichprobeRadiolearn/Intensivlunge'"
     },
     "execution_count": 13,
     "metadata": {},
     "output_type": "execute_result"
    }
   ],
   "source": [
    "destination = os.path.join(directory, \"Intensivlunge\")\n",
    "destination"
   ],
   "metadata": {
    "collapsed": false,
    "pycharm": {
     "name": "#%%\n"
    }
   }
  },
  {
   "cell_type": "markdown",
   "source": [
    "Hauptaufnahme ist straightforward:\n",
    "Files-Liste aus source Hauptaufnahme nehmen und für jede File prüfen, ob AP\n",
    "Wenn AP, dann in destination Hauptaufnahme kopieren"
   ],
   "metadata": {
    "collapsed": false,
    "pycharm": {
     "name": "#%% md\n"
    }
   }
  },
  {
   "cell_type": "code",
   "execution_count": 61,
   "outputs": [
    {
     "data": {
      "text/plain": "['patient00091_study1_view1_frontal.jpg',\n 'patient00138_study5_view1_frontal.jpg',\n 'patient00330_study2_view1_frontal.jpg',\n 'patient00467_study45_view1_frontal.jpg',\n 'patient00597_study2_view1_frontal.jpg',\n 'patient00628_study9_view1_frontal.jpg',\n 'patient00680_study2_view2_frontal.jpg',\n 'patient00729_study1_view1_frontal.jpg',\n 'patient01109_study1_view1_frontal.jpg',\n 'patient01114_study1_view1_frontal.jpg',\n 'patient01208_study1_view1_frontal.jpg',\n 'patient01322_study1_view1_frontal.jpg',\n 'patient01360_study1_view1_frontal.jpg',\n 'patient01412_study1_view1_frontal.jpg',\n 'patient01446_study4_view1_frontal.jpg',\n 'patient01604_study1_view1_frontal.jpg',\n 'patient02039_study3_view1_frontal.jpg',\n 'patient02144_study1_view1_frontal.jpg',\n 'patient02236_study1_view1_frontal.jpg',\n 'patient02342_study1_view1_frontal.jpg',\n 'patient02489_study1_view1_frontal.jpg',\n 'patient02671_study7_view1_frontal.jpg',\n 'patient02688_study5_view1_frontal.jpg',\n 'patient02700_study1_view1_frontal.jpg',\n 'patient02842_study1_view1_frontal.jpg',\n 'patient02881_study1_view1_frontal.jpg',\n 'patient03053_study2_view1_frontal.jpg',\n 'patient03097_study1_view1_frontal.jpg',\n 'patient03118_study1_view1_frontal.jpg',\n 'patient03177_study1_view1_frontal.jpg',\n 'patient03246_study1_view1_frontal.jpg',\n 'patient03511_study1_view1_frontal.jpg',\n 'patient03622_study1_view1_frontal.jpg',\n 'patient03827_study1_view1_frontal.jpg',\n 'patient04090_study2_view1_frontal.jpg',\n 'patient04097_study1_view1_frontal.jpg',\n 'patient04153_study5_view1_frontal.jpg',\n 'patient04432_study2_view1_frontal.jpg',\n 'patient04453_study1_view1_frontal.jpg',\n 'patient04605_study1_view1_frontal.jpg',\n 'patient04731_study2_view1_frontal.jpg',\n 'patient04855_study2_view1_frontal.jpg',\n 'patient04856_study1_view1_frontal.jpg',\n 'patient05160_study1_view1_frontal.jpg',\n 'patient05260_study1_view1_frontal.jpg',\n 'patient05295_study1_view1_frontal.jpg',\n 'patient05508_study5_view1_frontal.jpg',\n 'patient05541_study1_view1_frontal.jpg',\n 'patient05566_study1_view1_frontal.jpg',\n 'patient05577_study1_view1_frontal.jpg',\n 'patient05603_study4_view1_frontal.jpg',\n 'patient05741_study1_view1_frontal.jpg',\n 'patient06089_study6_view1_frontal.jpg',\n 'patient06108_study1_view1_frontal.jpg',\n 'patient06141_study1_view1_frontal.jpg',\n 'patient06209_study6_view1_frontal.jpg',\n 'patient06243_study4_view1_frontal.jpg',\n 'patient06261_study1_view1_frontal.jpg',\n 'patient06283_study1_view1_frontal.jpg',\n 'patient06440_study2_view1_frontal.jpg',\n 'patient06498_study1_view1_frontal.jpg',\n 'patient06868_study1_view1_frontal.jpg',\n 'patient06964_study22_view1_frontal.jpg',\n 'patient07127_study2_view1_frontal.jpg',\n 'patient07184_study1_view1_frontal.jpg',\n 'patient07203_study3_view1_frontal.jpg',\n 'patient07239_study9_view1_frontal.jpg',\n 'patient07257_study9_view1_frontal.jpg',\n 'patient07348_study2_view1_frontal.jpg',\n 'patient07407_study2_view1_frontal.jpg',\n 'patient07491_study1_view1_frontal.jpg',\n 'patient07655_study1_view1_frontal.jpg',\n 'patient07685_study1_view1_frontal.jpg',\n 'patient07984_study1_view1_frontal.jpg',\n 'patient08256_study10_view1_frontal.jpg',\n 'patient08261_study1_view1_frontal.jpg',\n 'patient08553_study5_view1_frontal.jpg',\n 'patient08567_study1_view1_frontal.jpg',\n 'patient09412_study4_view1_frontal.jpg',\n 'patient09497_study1_view1_frontal.jpg',\n 'patient09516_study2_view1_frontal.jpg',\n 'patient09944_study2_view1_frontal.jpg',\n 'patient09951_study1_view1_frontal.jpg',\n 'patient09992_study1_view1_frontal.jpg',\n 'patient10270_study1_view1_frontal.jpg',\n 'patient10282_study12_view1_frontal.jpg',\n 'patient10415_study1_view1_frontal.jpg',\n 'patient10426_study1_view1_frontal.jpg',\n 'patient10429_study1_view1_frontal.jpg',\n 'patient10888_study2_view1_frontal.jpg',\n 'patient10931_study2_view1_frontal.jpg',\n 'patient10934_study1_view1_frontal.jpg',\n 'patient11078_study1_view1_frontal.jpg',\n 'patient11153_study1_view1_frontal.jpg',\n 'patient11281_study1_view1_frontal.jpg',\n 'patient11300_study4_view1_frontal.jpg',\n 'patient11358_study1_view1_frontal.jpg',\n 'patient11404_study1_view1_frontal.jpg',\n 'patient11493_study14_view1_frontal.jpg',\n 'patient11542_study7_view1_frontal.jpg',\n 'patient11597_study1_view1_frontal.jpg',\n 'patient11703_study1_view1_frontal.jpg',\n 'patient11757_study1_view1_frontal.jpg',\n 'patient11758_study1_view1_frontal.jpg',\n 'patient12145_study6_view1_frontal.jpg',\n 'patient12184_study1_view1_frontal.jpg',\n 'patient12287_study2_view1_frontal.jpg',\n 'patient12341_study1_view1_frontal.jpg',\n 'patient12479_study1_view1_frontal.jpg',\n 'patient12494_study1_view1_frontal.jpg',\n 'patient12707_study1_view1_frontal.jpg',\n 'patient13015_study1_view1_frontal.jpg',\n 'patient13211_study12_view1_frontal.jpg',\n 'patient13214_study1_view1_frontal.jpg',\n 'patient13550_study3_view1_frontal.jpg',\n 'patient13706_study1_view1_frontal.jpg',\n 'patient13990_study1_view1_frontal.jpg',\n 'patient14323_study3_view1_frontal.jpg',\n 'patient14333_study1_view1_frontal.jpg',\n 'patient14414_study6_view1_frontal.jpg',\n 'patient14450_study7_view1_frontal.jpg',\n 'patient14512_study3_view1_frontal.jpg',\n 'patient14709_study1_view1_frontal.jpg',\n 'patient14831_study4_view1_frontal.jpg',\n 'patient15109_study1_view1_frontal.jpg',\n 'patient15643_study1_view1_frontal.jpg',\n 'patient15722_study12_view1_frontal.jpg',\n 'patient15867_study2_view1_frontal.jpg',\n 'patient15913_study2_view1_frontal.jpg',\n 'patient15916_study5_view1_frontal.jpg',\n 'patient16024_study1_view1_frontal.jpg',\n 'patient16150_study1_view1_frontal.jpg',\n 'patient16351_study5_view1_frontal.jpg',\n 'patient16417_study16_view1_frontal.jpg',\n 'patient16760_study1_view1_frontal.jpg',\n 'patient16762_study1_view1_frontal.jpg',\n 'patient16832_study3_view1_frontal.jpg',\n 'patient16890_study1_view1_frontal.jpg',\n 'patient16926_study4_view1_frontal.jpg',\n 'patient16935_study2_view1_frontal.jpg',\n 'patient16997_study16_view1_frontal.jpg',\n 'patient17206_study1_view1_frontal.jpg',\n 'patient17258_study2_view1_frontal.jpg',\n 'patient17262_study1_view1_frontal.jpg',\n 'patient17464_study1_view1_frontal.jpg',\n 'patient17490_study5_view1_frontal.jpg',\n 'patient17579_study11_view1_frontal.jpg',\n 'patient17609_study1_view1_frontal.jpg',\n 'patient17610_study1_view1_frontal.jpg',\n 'patient18041_study1_view1_frontal.jpg',\n 'patient18100_study5_view1_frontal.jpg',\n 'patient18113_study3_view1_frontal.jpg',\n 'patient18206_study1_view1_frontal.jpg',\n 'patient18293_study1_view1_frontal.jpg',\n 'patient18306_study3_view1_frontal.jpg',\n 'patient18313_study14_view1_frontal.jpg',\n 'patient18335_study1_view1_frontal.jpg',\n 'patient18406_study3_view1_frontal.jpg',\n 'patient18419_study1_view1_frontal.jpg',\n 'patient18482_study1_view1_frontal.jpg',\n 'patient18496_study2_view1_frontal.jpg',\n 'patient18501_study4_view1_frontal.jpg',\n 'patient18546_study1_view1_frontal.jpg',\n 'patient18944_study3_view1_frontal.jpg',\n 'patient19176_study1_view1_frontal.jpg',\n 'patient19445_study1_view1_frontal.jpg',\n 'patient19547_study1_view1_frontal.jpg',\n 'patient19674_study4_view1_frontal.jpg',\n 'patient19688_study4_view1_frontal.jpg',\n 'patient19689_study61_view1_frontal.jpg',\n 'patient19750_study1_view1_frontal.jpg',\n 'patient19798_study1_view1_frontal.jpg',\n 'patient20305_study1_view1_frontal.jpg',\n 'patient20441_study1_view1_frontal.jpg',\n 'patient20551_study1_view1_frontal.jpg',\n 'patient20588_study1_view1_frontal.jpg',\n 'patient20699_study3_view1_frontal.jpg',\n 'patient20937_study2_view1_frontal.jpg',\n 'patient20996_study1_view1_frontal.jpg',\n 'patient21051_study2_view1_frontal.jpg',\n 'patient21169_study1_view1_frontal.jpg',\n 'patient21517_study1_view1_frontal.jpg',\n 'patient21614_study3_view1_frontal.jpg',\n 'patient21882_study1_view1_frontal.jpg',\n 'patient21884_study4_view1_frontal.jpg',\n 'patient21942_study4_view1_frontal.jpg',\n 'patient22001_study3_view1_frontal.jpg',\n 'patient22209_study1_view1_frontal.jpg',\n 'patient22245_study6_view1_frontal.jpg',\n 'patient22374_study1_view1_frontal.jpg',\n 'patient22454_study1_view1_frontal.jpg',\n 'patient22504_study1_view1_frontal.jpg',\n 'patient23245_study2_view1_frontal.jpg',\n 'patient23362_study1_view1_frontal.jpg',\n 'patient23425_study1_view1_frontal.jpg',\n 'patient23502_study1_view1_frontal.jpg',\n 'patient23521_study13_view1_frontal.jpg',\n 'patient23552_study13_view1_frontal.jpg',\n 'patient23580_study1_view1_frontal.jpg',\n 'patient23866_study4_view1_frontal.jpg',\n 'patient23933_study1_view1_frontal.jpg',\n 'patient24086_study4_view1_frontal.jpg',\n 'patient24397_study4_view1_frontal.jpg',\n 'patient24612_study1_view1_frontal.jpg',\n 'patient24839_study10_view1_frontal.jpg',\n 'patient25085_study1_view1_frontal.jpg',\n 'patient25139_study1_view1_frontal.jpg',\n 'patient25500_study8_view1_frontal.jpg',\n 'patient25524_study1_view1_frontal.jpg',\n 'patient25585_study1_view1_frontal.jpg',\n 'patient25710_study1_view1_frontal.jpg',\n 'patient25972_study1_view1_frontal.jpg',\n 'patient26085_study5_view1_frontal.jpg',\n 'patient26170_study1_view1_frontal.jpg',\n 'patient26464_study8_view1_frontal.jpg',\n 'patient26550_study1_view1_frontal.jpg',\n 'patient26555_study1_view1_frontal.jpg',\n 'patient26604_study1_view1_frontal.jpg',\n 'patient26606_study2_view1_frontal.jpg',\n 'patient26618_study5_view1_frontal.jpg',\n 'patient26973_study12_view1_frontal.jpg',\n 'patient26992_study2_view1_frontal.jpg',\n 'patient27079_study2_view1_frontal.jpg',\n 'patient27132_study1_view1_frontal.jpg',\n 'patient27316_study3_view1_frontal.jpg',\n 'patient27317_study10_view1_frontal.jpg',\n 'patient27430_study1_view1_frontal.jpg',\n 'patient27606_study2_view1_frontal.jpg',\n 'patient27963_study1_view1_frontal.jpg',\n 'patient28048_study15_view1_frontal.jpg',\n 'patient28220_study1_view1_frontal.jpg',\n 'patient28327_study1_view1_frontal.jpg',\n 'patient28354_study2_view1_frontal.jpg',\n 'patient28552_study1_view1_frontal.jpg',\n 'patient28562_study1_view1_frontal.jpg',\n 'patient28820_study2_view1_frontal.jpg',\n 'patient29012_study2_view1_frontal.jpg',\n 'patient29121_study1_view1_frontal.jpg',\n 'patient29138_study1_view1_frontal.jpg',\n 'patient29227_study1_view1_frontal.jpg',\n 'patient29241_study1_view2_frontal.jpg',\n 'patient29304_study2_view1_frontal.jpg',\n 'patient29479_study1_view1_frontal.jpg',\n 'patient29572_study9_view1_frontal.jpg',\n 'patient29591_study2_view1_frontal.jpg',\n 'patient29638_study1_view1_frontal.jpg',\n 'patient29744_study1_view1_frontal.jpg',\n 'patient29814_study1_view1_frontal.jpg',\n 'patient30006_study5_view1_frontal.jpg',\n 'patient30086_study1_view1_frontal.jpg',\n 'patient30117_study2_view1_frontal.jpg',\n 'patient30246_study1_view1_frontal.jpg',\n 'patient30278_study1_view1_frontal.jpg',\n 'patient30330_study1_view1_frontal.jpg',\n 'patient30362_study1_view1_frontal.jpg',\n 'patient30433_study1_view1_frontal.jpg',\n 'patient30487_study1_view1_frontal.jpg',\n 'patient30665_study10_view1_frontal.jpg',\n 'patient30735_study1_view1_frontal.jpg',\n 'patient30782_study1_view1_frontal.jpg',\n 'patient30833_study1_view1_frontal.jpg',\n 'patient30855_study1_view1_frontal.jpg',\n 'patient30932_study1_view1_frontal.jpg',\n 'patient30987_study3_view1_frontal.jpg',\n 'patient31409_study1_view1_frontal.jpg',\n 'patient31441_study3_view1_frontal.jpg',\n 'patient31461_study1_view1_frontal.jpg',\n 'patient31516_study1_view1_frontal.jpg',\n 'patient31587_study2_view1_frontal.jpg',\n 'patient31774_study1_view1_frontal.jpg',\n 'patient31846_study1_view1_frontal.jpg',\n 'patient31990_study1_view1_frontal.jpg',\n 'patient32159_study2_view1_frontal.jpg',\n 'patient32423_study1_view1_frontal.jpg',\n 'patient32442_study1_view1_frontal.jpg',\n 'patient32597_study2_view1_frontal.jpg',\n 'patient32629_study5_view1_frontal.jpg',\n 'patient32790_study1_view1_frontal.jpg',\n 'patient33271_study1_view1_frontal.jpg',\n 'patient33298_study1_view1_frontal.jpg',\n 'patient33317_study2_view1_frontal.jpg',\n 'patient33402_study5_view1_frontal.jpg',\n 'patient33459_study1_view1_frontal.jpg',\n 'patient33620_study9_view1_frontal.jpg',\n 'patient33627_study2_view1_frontal.jpg',\n 'patient33745_study3_view1_frontal.jpg',\n 'patient34175_study2_view1_frontal.jpg',\n 'patient34336_study41_view1_frontal.jpg',\n 'patient34337_study1_view1_frontal.jpg',\n 'patient34474_study3_view1_frontal.jpg',\n 'patient35388_study1_view1_frontal.jpg',\n 'patient35473_study1_view1_frontal.jpg',\n 'patient35858_study11_view1_frontal.jpg',\n 'patient35868_study3_view1_frontal.jpg',\n 'patient35923_study8_view1_frontal.jpg',\n 'patient36008_study2_view1_frontal.jpg',\n 'patient37022_study3_view1_frontal.jpg',\n 'patient37748_study7_view1_frontal.jpg',\n 'patient38325_study1_view1_frontal.jpg',\n 'patient38380_study1_view1_frontal.jpg',\n 'patient39754_study1_view1_frontal.jpg',\n 'patient40297_study4_view1_frontal.jpg',\n 'patient40320_study5_view1_frontal.jpg',\n 'patient40739_study1_view1_frontal.jpg',\n 'patient41386_study2_view1_frontal.jpg',\n 'patient42194_study2_view1_frontal.jpg',\n 'patient42522_study7_view1_frontal.jpg',\n 'patient42552_study2_view1_frontal.jpg',\n 'patient44549_study1_view1_frontal.jpg',\n 'patient44718_study1_view1_frontal.jpg',\n 'patient44766_study2_view1_frontal.jpg',\n 'patient45239_study1_view1_frontal.jpg',\n 'patient45241_study1_view1_frontal.jpg',\n 'patient45431_study6_view1_frontal.jpg',\n 'patient45819_study2_view1_frontal.jpg',\n 'patient46156_study2_view1_frontal.jpg',\n 'patient46240_study2_view1_frontal.jpg',\n 'patient46732_study1_view1_frontal.jpg',\n 'patient46897_study2_view1_frontal.jpg',\n 'patient47052_study2_view1_frontal.jpg',\n 'patient47257_study1_view1_frontal.jpg',\n 'patient47419_study1_view1_frontal.jpg',\n 'patient47866_study3_view1_frontal.jpg',\n 'patient47910_study1_view1_frontal.jpg',\n 'patient48132_study1_view1_frontal.jpg',\n 'patient49688_study1_view1_frontal.jpg',\n 'patient50248_study1_view1_frontal.jpg',\n 'patient50529_study1_view1_frontal.jpg',\n 'patient50769_study1_view1_frontal.jpg',\n 'patient50862_study1_view1_frontal.jpg',\n 'patient50893_study2_view1_frontal.jpg',\n 'patient51710_study3_view1_frontal.jpg',\n 'patient51948_study1_view1_frontal.jpg',\n 'patient52159_study2_view1_frontal.jpg',\n 'patient52378_study1_view1_frontal.jpg',\n 'patient54216_study2_view1_frontal.jpg',\n 'patient54395_study1_view1_frontal.jpg',\n 'patient55341_study1_view1_frontal.jpg',\n 'patient55543_study1_view1_frontal.jpg',\n 'patient55999_study1_view1_frontal.jpg',\n 'patient56075_study1_view1_frontal.jpg',\n 'patient57031_study1_view1_frontal.jpg',\n 'patient57910_study1_view1_frontal.jpg',\n 'patient58126_study1_view1_frontal.jpg',\n 'patient58234_study1_view1_frontal.jpg',\n 'patient58791_study1_view1_frontal.jpg',\n 'patient58932_study1_view1_frontal.jpg',\n 'patient59863_study2_view1_frontal.jpg',\n 'patient60089_study1_view1_frontal.jpg',\n 'patient60179_study3_view1_frontal.jpg',\n 'patient60819_study1_view1_frontal.jpg',\n 'patient61126_study1_view1_frontal.jpg',\n 'patient61376_study1_view1_frontal.jpg',\n 'patient61378_study1_view1_frontal.jpg',\n 'patient61437_study1_view1_frontal.jpg',\n 'patient61653_study1_view1_frontal.jpg',\n 'patient62320_study1_view1_frontal.jpg',\n 'patient62355_study1_view1_frontal.jpg',\n 'patient62491_study1_view1_frontal.jpg']"
     },
     "execution_count": 61,
     "metadata": {},
     "output_type": "execute_result"
    }
   ],
   "source": [
    "fileslist = os.listdir(os.path.join(source, \"Hauptaufnahme\"))\n",
    "fileslist"
   ],
   "metadata": {
    "collapsed": false,
    "pycharm": {
     "name": "#%%\n"
    }
   }
  },
  {
   "cell_type": "code",
   "execution_count": 55,
   "outputs": [
    {
     "data": {
      "text/plain": "'PA'"
     },
     "execution_count": 55,
     "metadata": {},
     "output_type": "execute_result"
    }
   ],
   "source": [
    "data.loc[data['File'] == fileslist[0]]['AP/PA'].values[0]"
   ],
   "metadata": {
    "collapsed": false,
    "pycharm": {
     "name": "#%%\n"
    }
   }
  },
  {
   "cell_type": "code",
   "execution_count": 62,
   "outputs": [],
   "source": [
    "for file in fileslist:\n",
    "    if data.loc[data['File'] == file]['AP/PA'].values[0] == 'AP':\n",
    "        shutil.move(os.path.join(source, \"Hauptaufnahme\", file), os.path.join(destination, \"Hauptaufnahme\", file))"
   ],
   "metadata": {
    "collapsed": false,
    "pycharm": {
     "name": "#%%\n"
    }
   }
  },
  {
   "cell_type": "markdown",
   "source": [
    "Lateral und Voraufnahme sind etwas anders:\n",
    "Für jede Aufnahme erst den Patienten extrahieren und in Hauptaufnahme finden\n",
    "Wenn in Hauptaufnahme, dann moven"
   ],
   "metadata": {
    "collapsed": false,
    "pycharm": {
     "name": "#%% md\n"
    }
   }
  },
  {
   "cell_type": "code",
   "execution_count": 63,
   "outputs": [],
   "source": [
    "mainlist = os.listdir(os.path.join(destination, \"Hauptaufnahme\"))\n",
    "laterallist = os.listdir(os.path.join(source, \"Lateralaufnahme\"))\n",
    "prelist = os.listdir(os.path.join(source, \"Voraufnahme\"))"
   ],
   "metadata": {
    "collapsed": false,
    "pycharm": {
     "name": "#%%\n"
    }
   }
  },
  {
   "cell_type": "code",
   "execution_count": 64,
   "outputs": [
    {
     "data": {
      "text/plain": "['patient00597_study2_view1_frontal.jpg',\n 'patient00628_study9_view1_frontal.jpg',\n 'patient01446_study4_view1_frontal.jpg',\n 'patient02144_study1_view1_frontal.jpg',\n 'patient03827_study1_view1_frontal.jpg',\n 'patient04153_study5_view1_frontal.jpg',\n 'patient04432_study2_view1_frontal.jpg',\n 'patient04605_study1_view1_frontal.jpg',\n 'patient05260_study1_view1_frontal.jpg',\n 'patient06243_study4_view1_frontal.jpg',\n 'patient06964_study22_view1_frontal.jpg',\n 'patient07127_study2_view1_frontal.jpg',\n 'patient07257_study9_view1_frontal.jpg',\n 'patient08256_study10_view1_frontal.jpg',\n 'patient08567_study1_view1_frontal.jpg',\n 'patient11404_study1_view1_frontal.jpg',\n 'patient12494_study1_view1_frontal.jpg',\n 'patient13214_study1_view1_frontal.jpg',\n 'patient14450_study7_view1_frontal.jpg',\n 'patient14512_study3_view1_frontal.jpg',\n 'patient15867_study2_view1_frontal.jpg',\n 'patient16832_study3_view1_frontal.jpg',\n 'patient18041_study1_view1_frontal.jpg',\n 'patient18306_study3_view1_frontal.jpg',\n 'patient18313_study14_view1_frontal.jpg',\n 'patient19688_study4_view1_frontal.jpg',\n 'patient20699_study3_view1_frontal.jpg',\n 'patient22245_study6_view1_frontal.jpg',\n 'patient22454_study1_view1_frontal.jpg',\n 'patient23933_study1_view1_frontal.jpg',\n 'patient24397_study4_view1_frontal.jpg',\n 'patient24612_study1_view1_frontal.jpg',\n 'patient25500_study8_view1_frontal.jpg',\n 'patient26606_study2_view1_frontal.jpg',\n 'patient26973_study12_view1_frontal.jpg',\n 'patient27317_study10_view1_frontal.jpg',\n 'patient29121_study1_view1_frontal.jpg',\n 'patient29304_study2_view1_frontal.jpg',\n 'patient30086_study1_view1_frontal.jpg',\n 'patient30855_study1_view1_frontal.jpg',\n 'patient31441_study3_view1_frontal.jpg',\n 'patient31516_study1_view1_frontal.jpg',\n 'patient31587_study2_view1_frontal.jpg',\n 'patient32159_study2_view1_frontal.jpg',\n 'patient35388_study1_view1_frontal.jpg',\n 'patient35473_study1_view1_frontal.jpg',\n 'patient35858_study11_view1_frontal.jpg',\n 'patient35868_study3_view1_frontal.jpg',\n 'patient35923_study8_view1_frontal.jpg',\n 'patient36008_study2_view1_frontal.jpg',\n 'patient37022_study3_view1_frontal.jpg',\n 'patient37748_study7_view1_frontal.jpg',\n 'patient38325_study1_view1_frontal.jpg',\n 'patient38380_study1_view1_frontal.jpg',\n 'patient39754_study1_view1_frontal.jpg',\n 'patient40297_study4_view1_frontal.jpg',\n 'patient40320_study5_view1_frontal.jpg',\n 'patient40739_study1_view1_frontal.jpg',\n 'patient41386_study2_view1_frontal.jpg',\n 'patient42194_study2_view1_frontal.jpg',\n 'patient42522_study7_view1_frontal.jpg',\n 'patient42552_study2_view1_frontal.jpg',\n 'patient44549_study1_view1_frontal.jpg',\n 'patient44718_study1_view1_frontal.jpg',\n 'patient44766_study2_view1_frontal.jpg',\n 'patient45239_study1_view1_frontal.jpg',\n 'patient45241_study1_view1_frontal.jpg',\n 'patient45431_study6_view1_frontal.jpg',\n 'patient45819_study2_view1_frontal.jpg',\n 'patient46156_study2_view1_frontal.jpg',\n 'patient46240_study2_view1_frontal.jpg',\n 'patient46732_study1_view1_frontal.jpg',\n 'patient46897_study2_view1_frontal.jpg',\n 'patient47052_study2_view1_frontal.jpg',\n 'patient47257_study1_view1_frontal.jpg',\n 'patient47419_study1_view1_frontal.jpg',\n 'patient47866_study3_view1_frontal.jpg',\n 'patient47910_study1_view1_frontal.jpg',\n 'patient48132_study1_view1_frontal.jpg',\n 'patient49688_study1_view1_frontal.jpg',\n 'patient50248_study1_view1_frontal.jpg',\n 'patient50529_study1_view1_frontal.jpg',\n 'patient50769_study1_view1_frontal.jpg',\n 'patient50862_study1_view1_frontal.jpg',\n 'patient50893_study2_view1_frontal.jpg',\n 'patient51710_study3_view1_frontal.jpg',\n 'patient51948_study1_view1_frontal.jpg',\n 'patient52159_study2_view1_frontal.jpg',\n 'patient52378_study1_view1_frontal.jpg',\n 'patient54216_study2_view1_frontal.jpg',\n 'patient54395_study1_view1_frontal.jpg',\n 'patient55341_study1_view1_frontal.jpg',\n 'patient55543_study1_view1_frontal.jpg',\n 'patient55999_study1_view1_frontal.jpg',\n 'patient56075_study1_view1_frontal.jpg',\n 'patient57031_study1_view1_frontal.jpg',\n 'patient57910_study1_view1_frontal.jpg',\n 'patient58126_study1_view1_frontal.jpg',\n 'patient58234_study1_view1_frontal.jpg',\n 'patient58791_study1_view1_frontal.jpg',\n 'patient58932_study1_view1_frontal.jpg',\n 'patient59863_study2_view1_frontal.jpg',\n 'patient60089_study1_view1_frontal.jpg',\n 'patient60179_study3_view1_frontal.jpg',\n 'patient60819_study1_view1_frontal.jpg',\n 'patient61126_study1_view1_frontal.jpg',\n 'patient61376_study1_view1_frontal.jpg',\n 'patient61378_study1_view1_frontal.jpg',\n 'patient61437_study1_view1_frontal.jpg',\n 'patient61653_study1_view1_frontal.jpg',\n 'patient62320_study1_view1_frontal.jpg',\n 'patient62355_study1_view1_frontal.jpg',\n 'patient62491_study1_view1_frontal.jpg']"
     },
     "execution_count": 64,
     "metadata": {},
     "output_type": "execute_result"
    }
   ],
   "source": [
    "mainlist"
   ],
   "metadata": {
    "collapsed": false,
    "pycharm": {
     "name": "#%%\n"
    }
   }
  },
  {
   "cell_type": "code",
   "execution_count": 68,
   "outputs": [
    {
     "data": {
      "text/plain": "['patient00597',\n 'patient00628',\n 'patient01446',\n 'patient02144',\n 'patient03827',\n 'patient04153',\n 'patient04432',\n 'patient04605',\n 'patient05260',\n 'patient06243',\n 'patient06964',\n 'patient07127',\n 'patient07257',\n 'patient08256',\n 'patient08567',\n 'patient11404',\n 'patient12494',\n 'patient13214',\n 'patient14450',\n 'patient14512',\n 'patient15867',\n 'patient16832',\n 'patient18041',\n 'patient18306',\n 'patient18313',\n 'patient19688',\n 'patient20699',\n 'patient22245',\n 'patient22454',\n 'patient23933',\n 'patient24397',\n 'patient24612',\n 'patient25500',\n 'patient26606',\n 'patient26973',\n 'patient27317',\n 'patient29121',\n 'patient29304',\n 'patient30086',\n 'patient30855',\n 'patient31441',\n 'patient31516',\n 'patient31587',\n 'patient32159',\n 'patient35388',\n 'patient35473',\n 'patient35858',\n 'patient35868',\n 'patient35923',\n 'patient36008',\n 'patient37022',\n 'patient37748',\n 'patient38325',\n 'patient38380',\n 'patient39754',\n 'patient40297',\n 'patient40320',\n 'patient40739',\n 'patient41386',\n 'patient42194',\n 'patient42522',\n 'patient42552',\n 'patient44549',\n 'patient44718',\n 'patient44766',\n 'patient45239',\n 'patient45241',\n 'patient45431',\n 'patient45819',\n 'patient46156',\n 'patient46240',\n 'patient46732',\n 'patient46897',\n 'patient47052',\n 'patient47257',\n 'patient47419',\n 'patient47866',\n 'patient47910',\n 'patient48132',\n 'patient49688',\n 'patient50248',\n 'patient50529',\n 'patient50769',\n 'patient50862',\n 'patient50893',\n 'patient51710',\n 'patient51948',\n 'patient52159',\n 'patient52378',\n 'patient54216',\n 'patient54395',\n 'patient55341',\n 'patient55543',\n 'patient55999',\n 'patient56075',\n 'patient57031',\n 'patient57910',\n 'patient58126',\n 'patient58234',\n 'patient58791',\n 'patient58932',\n 'patient59863',\n 'patient60089',\n 'patient60179',\n 'patient60819',\n 'patient61126',\n 'patient61376',\n 'patient61378',\n 'patient61437',\n 'patient61653',\n 'patient62320',\n 'patient62355',\n 'patient62491']"
     },
     "execution_count": 68,
     "metadata": {},
     "output_type": "execute_result"
    }
   ],
   "source": [
    "ap_patients = []\n",
    "for file in mainlist:\n",
    "    ap_patients.append(file[0:12])\n",
    "ap_patients"
   ],
   "metadata": {
    "collapsed": false,
    "pycharm": {
     "name": "#%%\n"
    }
   }
  },
  {
   "cell_type": "code",
   "execution_count": 67,
   "outputs": [
    {
     "data": {
      "text/plain": "'patient00138'"
     },
     "execution_count": 67,
     "metadata": {},
     "output_type": "execute_result"
    }
   ],
   "source": [
    "laterallist[0][0:12]"
   ],
   "metadata": {
    "collapsed": false,
    "pycharm": {
     "name": "#%%\n"
    }
   }
  },
  {
   "cell_type": "code",
   "execution_count": 72,
   "outputs": [
    {
     "data": {
      "text/plain": "True"
     },
     "execution_count": 72,
     "metadata": {},
     "output_type": "execute_result"
    }
   ],
   "source": [
    "laterallist[150][0:12] in ap_patients"
   ],
   "metadata": {
    "collapsed": false,
    "pycharm": {
     "name": "#%%\n"
    }
   }
  },
  {
   "cell_type": "code",
   "execution_count": 65,
   "outputs": [
    {
     "data": {
      "text/plain": "['patient00138_study5_view2_lateral.jpg',\n 'patient00330_study2_view2_lateral.jpg',\n 'patient00467_study45_view2_lateral.jpg',\n 'patient00680_study2_view3_lateral.jpg',\n 'patient00729_study1_view2_lateral.jpg',\n 'patient01109_study1_view2_lateral.jpg',\n 'patient01114_study1_view2_lateral.jpg',\n 'patient01208_study1_view2_lateral.jpg',\n 'patient01360_study1_view2_lateral.jpg',\n 'patient02039_study1_view2_lateral.jpg',\n 'patient02039_study3_view2_lateral.jpg',\n 'patient02144_study2_view2_lateral.jpg',\n 'patient02236_study1_view2_lateral.jpg',\n 'patient02342_study1_view2_lateral.jpg',\n 'patient02489_study1_view2_lateral.jpg',\n 'patient02671_study7_view2_lateral.jpg',\n 'patient02688_study5_view2_lateral.jpg',\n 'patient02842_study1_view2_lateral.jpg',\n 'patient02881_study1_view2_lateral.jpg',\n 'patient03053_study1_view2_lateral.jpg',\n 'patient03053_study2_view2_lateral.jpg',\n 'patient03097_study1_view2_lateral.jpg',\n 'patient03118_study1_view2_lateral.jpg',\n 'patient03177_study1_view2_lateral.jpg',\n 'patient03246_study1_view2_lateral.jpg',\n 'patient03511_study1_view2_lateral.jpg',\n 'patient03622_study1_view2_lateral.jpg',\n 'patient04090_study2_view2_lateral.jpg',\n 'patient04097_study1_view2_lateral.jpg',\n 'patient04453_study1_view2_lateral.jpg',\n 'patient04731_study2_view2_lateral.jpg',\n 'patient04855_study2_view2_lateral.jpg',\n 'patient04856_study1_view2_lateral.jpg',\n 'patient05160_study1_view2_lateral.jpg',\n 'patient05260_study2_view2_lateral.jpg',\n 'patient05295_study1_view2_lateral.jpg',\n 'patient05508_study5_view2_lateral.jpg',\n 'patient05541_study1_view2_lateral.jpg',\n 'patient05566_study1_view2_lateral.jpg',\n 'patient05603_study4_view2_lateral.jpg',\n 'patient05741_study1_view2_lateral.jpg',\n 'patient06089_study6_view2_lateral.jpg',\n 'patient06108_study1_view2_lateral.jpg',\n 'patient06283_study1_view2_lateral.jpg',\n 'patient06498_study1_view2_lateral.jpg',\n 'patient06868_study1_view2_lateral.jpg',\n 'patient07184_study1_view2_lateral.jpg',\n 'patient07203_study3_view2_lateral.jpg',\n 'patient07239_study9_view2_lateral.jpg',\n 'patient07348_study2_view2_lateral.jpg',\n 'patient07407_study2_view2_lateral.jpg',\n 'patient07491_study1_view2_lateral.jpg',\n 'patient07655_study1_view2_lateral.jpg',\n 'patient07685_study1_view2_lateral.jpg',\n 'patient08261_study1_view2_lateral.jpg',\n 'patient08553_study5_view2_lateral.jpg',\n 'patient09412_study4_view2_lateral.jpg',\n 'patient09497_study1_view2_lateral.jpg',\n 'patient09516_study2_view2_lateral.jpg',\n 'patient09944_study2_view2_lateral.jpg',\n 'patient09951_study1_view2_lateral.jpg',\n 'patient09992_study1_view2_lateral.jpg',\n 'patient10270_study1_view2_lateral.jpg',\n 'patient10282_study12_view2_lateral.jpg',\n 'patient10426_study1_view2_lateral.jpg',\n 'patient10429_study1_view2_lateral.jpg',\n 'patient10888_study2_view2_lateral.jpg',\n 'patient10931_study2_view2_lateral.jpg',\n 'patient10934_study1_view2_lateral.jpg',\n 'patient11078_study1_view2_lateral.jpg',\n 'patient11153_study1_view2_lateral.jpg',\n 'patient11281_study1_view2_lateral.jpg',\n 'patient11300_study4_view2_lateral.jpg',\n 'patient11358_study1_view2_lateral.jpg',\n 'patient11493_study14_view2_lateral.jpg',\n 'patient11542_study7_view2_lateral.jpg',\n 'patient11597_study1_view2_lateral.jpg',\n 'patient11703_study1_view2_lateral.jpg',\n 'patient11757_study1_view2_lateral.jpg',\n 'patient11758_study1_view2_lateral.jpg',\n 'patient12145_study6_view2_lateral.jpg',\n 'patient12184_study1_view2_lateral.jpg',\n 'patient12287_study2_view2_lateral.jpg',\n 'patient12341_study1_view2_lateral.jpg',\n 'patient12479_study1_view2_lateral.jpg',\n 'patient12707_study1_view2_lateral.jpg',\n 'patient13015_study1_view2_lateral.jpg',\n 'patient13211_study12_view2_lateral.jpg',\n 'patient13550_study3_view2_lateral.jpg',\n 'patient13706_study1_view2_lateral.jpg',\n 'patient13990_study1_view2_lateral.jpg',\n 'patient14323_study3_view2_lateral.jpg',\n 'patient14333_study1_view2_lateral.jpg',\n 'patient14414_study6_view2_lateral.jpg',\n 'patient14709_study1_view2_lateral.jpg',\n 'patient14831_study4_view2_lateral.jpg',\n 'patient15109_study1_view2_lateral.jpg',\n 'patient15643_study1_view2_lateral.jpg',\n 'patient15722_study12_view2_lateral.jpg',\n 'patient15913_study2_view2_lateral.jpg',\n 'patient15916_study5_view2_lateral.jpg',\n 'patient16024_study1_view2_lateral.jpg',\n 'patient16150_study1_view2_lateral.jpg',\n 'patient16351_study5_view2_lateral.jpg',\n 'patient16417_study16_view2_lateral.jpg',\n 'patient16762_study1_view2_lateral.jpg',\n 'patient16890_study1_view2_lateral.jpg',\n 'patient16926_study4_view2_lateral.jpg',\n 'patient16935_study2_view2_lateral.jpg',\n 'patient16997_study16_view2_lateral.jpg',\n 'patient17206_study1_view2_lateral.jpg',\n 'patient17258_study2_view2_lateral.jpg',\n 'patient17262_study1_view2_lateral.jpg',\n 'patient17464_study1_view2_lateral.jpg',\n 'patient17490_study5_view2_lateral.jpg',\n 'patient17579_study11_view2_lateral.jpg',\n 'patient17609_study1_view2_lateral.jpg',\n 'patient17610_study1_view2_lateral.jpg',\n 'patient18100_study5_view2_lateral.jpg',\n 'patient18113_study3_view2_lateral.jpg',\n 'patient18206_study1_view2_lateral.jpg',\n 'patient18293_study1_view2_lateral.jpg',\n 'patient18335_study1_view2_lateral.jpg',\n 'patient18406_study3_view2_lateral.jpg',\n 'patient18419_study1_view2_lateral.jpg',\n 'patient18482_study1_view2_lateral.jpg',\n 'patient18496_study2_view3_lateral.jpg',\n 'patient18501_study4_view2_lateral.jpg',\n 'patient18546_study1_view2_lateral.jpg',\n 'patient18944_study3_view2_lateral.jpg',\n 'patient19176_study1_view2_lateral.jpg',\n 'patient19445_study1_view2_lateral.jpg',\n 'patient19547_study1_view2_lateral.jpg',\n 'patient19674_study4_view2_lateral.jpg',\n 'patient19689_study61_view2_lateral.jpg',\n 'patient19750_study1_view2_lateral.jpg',\n 'patient19798_study1_view2_lateral.jpg',\n 'patient20305_study1_view2_lateral.jpg',\n 'patient20441_study1_view2_lateral.jpg',\n 'patient20551_study1_view2_lateral.jpg',\n 'patient20588_study1_view2_lateral.jpg',\n 'patient20937_study2_view2_lateral.jpg',\n 'patient20996_study1_view2_lateral.jpg',\n 'patient21051_study2_view2_lateral.jpg',\n 'patient21169_study1_view2_lateral.jpg',\n 'patient21517_study1_view2_lateral.jpg',\n 'patient21614_study3_view2_lateral.jpg',\n 'patient21882_study1_view2_lateral.jpg',\n 'patient21884_study4_view2_lateral.jpg',\n 'patient22374_study1_view2_lateral.jpg',\n 'patient22454_study2_view2_lateral.jpg',\n 'patient22504_study1_view2_lateral.jpg',\n 'patient23245_study2_view2_lateral.jpg',\n 'patient23362_study1_view2_lateral.jpg',\n 'patient23425_study1_view2_lateral.jpg',\n 'patient23521_study13_view2_lateral.jpg',\n 'patient23552_study13_view2_lateral.jpg',\n 'patient23580_study1_view2_lateral.jpg',\n 'patient23866_study4_view2_lateral.jpg',\n 'patient24086_study4_view2_lateral.jpg',\n 'patient25085_study1_view2_lateral.jpg',\n 'patient25524_study1_view2_lateral.jpg',\n 'patient25585_study1_view2_lateral.jpg',\n 'patient25710_study1_view2_lateral.jpg',\n 'patient25972_study1_view2_lateral.jpg',\n 'patient26085_study5_view2_lateral.jpg',\n 'patient26464_study8_view3_lateral.jpg',\n 'patient26550_study1_view2_lateral.jpg',\n 'patient26555_study1_view2_lateral.jpg',\n 'patient26604_study1_view2_lateral.jpg',\n 'patient26992_study2_view2_lateral.jpg',\n 'patient27079_study2_view2_lateral.jpg',\n 'patient27132_study1_view2_lateral.jpg',\n 'patient27316_study3_view2_lateral.jpg',\n 'patient27430_study1_view2_lateral.jpg',\n 'patient27606_study2_view2_lateral.jpg',\n 'patient27963_study1_view2_lateral.jpg',\n 'patient28048_study15_view2_lateral.jpg',\n 'patient28327_study1_view2_lateral.jpg',\n 'patient28552_study1_view2_lateral.jpg',\n 'patient28820_study2_view2_lateral.jpg',\n 'patient29012_study2_view2_lateral.jpg',\n 'patient29138_study1_view2_lateral.jpg',\n 'patient29227_study1_view2_lateral.jpg',\n 'patient29241_study1_view3_lateral.jpg',\n 'patient29304_study2_view2_lateral.jpg',\n 'patient29479_study1_view2_lateral.jpg',\n 'patient29572_study9_view2_lateral.jpg',\n 'patient29591_study2_view2_lateral.jpg',\n 'patient29638_study1_view2_lateral.jpg',\n 'patient29744_study1_view2_lateral.jpg',\n 'patient29814_study1_view2_lateral.jpg',\n 'patient30006_study5_view2_lateral.jpg',\n 'patient30117_study2_view2_lateral.jpg',\n 'patient30246_study1_view2_lateral.jpg',\n 'patient30278_study1_view2_lateral.jpg',\n 'patient30330_study1_view2_lateral.jpg',\n 'patient30362_study1_view3_lateral.jpg',\n 'patient30433_study1_view2_lateral.jpg',\n 'patient30487_study1_view2_lateral.jpg',\n 'patient30665_study10_view2_lateral.jpg',\n 'patient30782_study1_view2_lateral.jpg',\n 'patient30833_study1_view2_lateral.jpg',\n 'patient30932_study1_view2_lateral.jpg',\n 'patient30987_study3_view2_lateral.jpg',\n 'patient31409_study1_view2_lateral.jpg',\n 'patient31441_study4_view2_lateral.jpg',\n 'patient31461_study1_view2_lateral.jpg',\n 'patient31774_study1_view2_lateral.jpg',\n 'patient31846_study1_view2_lateral.jpg',\n 'patient31990_study1_view2_lateral.jpg',\n 'patient32423_study1_view2_lateral.jpg',\n 'patient32442_study1_view2_lateral.jpg',\n 'patient32597_study2_view2_lateral.jpg',\n 'patient32629_study5_view2_lateral.jpg',\n 'patient32790_study1_view2_lateral.jpg',\n 'patient33271_study1_view2_lateral.jpg',\n 'patient33298_study1_view2_lateral.jpg',\n 'patient33317_study2_view3_lateral.jpg',\n 'patient33402_study5_view2_lateral.jpg',\n 'patient33459_study1_view2_lateral.jpg',\n 'patient33620_study9_view2_lateral.jpg',\n 'patient33627_study2_view2_lateral.jpg',\n 'patient33745_study3_view2_lateral.jpg',\n 'patient34175_study2_view2_lateral.jpg',\n 'patient34336_study41_view2_lateral.jpg',\n 'patient34337_study1_view2_lateral.jpg',\n 'patient34474_study3_view2_lateral.jpg',\n 'patient47910_study1_view2_lateral.jpg',\n 'patient50529_study1_view2_lateral.jpg',\n 'patient55543_study1_view2_lateral.jpg',\n 'patient56075_study1_view2_lateral.jpg']"
     },
     "execution_count": 65,
     "metadata": {},
     "output_type": "execute_result"
    }
   ],
   "source": [
    "laterallist"
   ],
   "metadata": {
    "collapsed": false,
    "pycharm": {
     "name": "#%%\n"
    }
   }
  },
  {
   "cell_type": "code",
   "execution_count": 73,
   "outputs": [],
   "source": [
    "for file in laterallist:\n",
    "    patient = file[0:12]\n",
    "    if patient in ap_patients:\n",
    "        shutil.move(os.path.join(source, \"Lateralaufnahme\", file), os.path.join(destination, \"Lateralaufnahme\", file))"
   ],
   "metadata": {
    "collapsed": false,
    "pycharm": {
     "name": "#%%\n"
    }
   }
  },
  {
   "cell_type": "code",
   "execution_count": 75,
   "outputs": [],
   "source": [
    "for file in prelist:\n",
    "    patient = file[0:12]\n",
    "    if patient in ap_patients:\n",
    "        shutil.move(os.path.join(source, \"Voraufnahme\", file), os.path.join(destination, \"Voraufnahme\", file))"
   ],
   "metadata": {
    "collapsed": false,
    "pycharm": {
     "name": "#%%\n"
    }
   }
  },
  {
   "cell_type": "code",
   "execution_count": null,
   "outputs": [],
   "source": [],
   "metadata": {
    "collapsed": false,
    "pycharm": {
     "name": "#%%\n"
    }
   }
  }
 ],
 "metadata": {
  "kernelspec": {
   "display_name": "Python 3",
   "language": "python",
   "name": "python3"
  },
  "language_info": {
   "codemirror_mode": {
    "name": "ipython",
    "version": 2
   },
   "file_extension": ".py",
   "mimetype": "text/x-python",
   "name": "python",
   "nbconvert_exporter": "python",
   "pygments_lexer": "ipython2",
   "version": "2.7.6"
  }
 },
 "nbformat": 4,
 "nbformat_minor": 0
}