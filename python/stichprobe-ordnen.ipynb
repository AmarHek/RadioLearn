{
 "cells": [
  {
   "cell_type": "code",
   "execution_count": 1,
   "metadata": {
    "collapsed": true
   },
   "outputs": [],
   "source": [
    "import pandas as pd\n",
    "import numpy as np"
   ]
  },
  {
   "cell_type": "code",
   "execution_count": 2,
   "outputs": [],
   "source": [
    "directory = \"D:/Nextcloud/Röntgen/StichprobeCheXpertRadiolearn/\""
   ],
   "metadata": {
    "collapsed": false,
    "pycharm": {
     "name": "#%%\n"
    }
   }
  },
  {
   "cell_type": "code",
   "execution_count": 3,
   "outputs": [],
   "source": [
    "data = pd.read_csv(directory + \"sample.csv\")"
   ],
   "metadata": {
    "collapsed": false,
    "pycharm": {
     "name": "#%%\n"
    }
   }
  },
  {
   "cell_type": "code",
   "execution_count": 4,
   "outputs": [
    {
     "data": {
      "text/plain": "     Unnamed: 0                                               Path     Sex  \\\n0           185  CheXpert-v1.0/train/patient00060/study1/view1_...  Female   \n1           885  CheXpert-v1.0/train/patient00212/study1/view1_...  Female   \n2          1050  CheXpert-v1.0/train/patient00255/study5/view1_...  Female   \n3          1218  CheXpert-v1.0/train/patient00294/study1/view1_...  Female   \n4          1465  CheXpert-v1.0/train/patient00338/study2/view1_...    Male   \n..          ...                                                ...     ...   \n393      140421  CheXpert-v1.0/train/patient33738/study1/view1_...    Male   \n394      142102  CheXpert-v1.0/train/patient34162/study1/view1_...    Male   \n395      142952  CheXpert-v1.0/train/patient34346/study2/view1_...    Male   \n396      142954  CheXpert-v1.0/train/patient34346/study1/view1_...    Male   \n397      143252  CheXpert-v1.0/train/patient34423/study1/view1_...    Male   \n\n                               Target File       Patient  Age Frontal/Lateral  \\\n0    patient00060_study1_view1_frontal.jpg  patient00060   44         Frontal   \n1    patient00212_study1_view1_frontal.jpg  patient00212   77         Frontal   \n2    patient00255_study5_view1_frontal.jpg  patient00255   48         Frontal   \n3    patient00294_study1_view1_frontal.jpg  patient00294   35         Frontal   \n4    patient00338_study2_view1_frontal.jpg  patient00338   58         Frontal   \n..                                     ...           ...  ...             ...   \n393  patient33738_study1_view1_frontal.jpg  patient33738   48         Frontal   \n394  patient34162_study1_view1_frontal.jpg  patient34162   41         Frontal   \n395  patient34346_study2_view1_frontal.jpg  patient34346   55         Frontal   \n396  patient34346_study1_view1_frontal.jpg  patient34346   55         Frontal   \n397  patient34423_study1_view1_frontal.jpg  patient34423   70         Frontal   \n\n    AP/PA  No Finding  Enlarged Cardiomediastinum  ...  Lung Lesion  Edema  \\\n0      PA         1.0                         0.0  ...          0.0    0.0   \n1      PA         0.0                         0.0  ...          0.0    1.0   \n2      PA         0.0                         0.0  ...         -1.0    0.0   \n3      PA         0.0                         0.0  ...          0.0    0.0   \n4      PA         0.0                         0.0  ...          0.0    0.0   \n..    ...         ...                         ...  ...          ...    ...   \n393    PA         0.0                         0.0  ...          0.0    0.0   \n394    PA         1.0                         0.0  ...          0.0    0.0   \n395    PA         0.0                        -1.0  ...          0.0    0.0   \n396    PA         0.0                         0.0  ...          1.0    0.0   \n397    PA         0.0                         0.0  ...          0.0    0.0   \n\n     Consolidation  Pneumonia  Atelectasis  Pneumothorax  Pleural Effusion  \\\n0              0.0        0.0          0.0           0.0               0.0   \n1              0.0        0.0          0.0           0.0               1.0   \n2              0.0        0.0          0.0           1.0               0.0   \n3              1.0        0.0          0.0           0.0               0.0   \n4              1.0        0.0          0.0           0.0               1.0   \n..             ...        ...          ...           ...               ...   \n393           -1.0        1.0         -1.0           0.0               0.0   \n394            0.0        0.0          0.0           0.0               0.0   \n395            0.0        0.0          0.0           0.0              -1.0   \n396            0.0        0.0          1.0           0.0               0.0   \n397            0.0       -1.0          0.0           0.0               0.0   \n\n     Pleural Other  Fracture  Support Devices  \n0              0.0       0.0              0.0  \n1              0.0       0.0              0.0  \n2              0.0       0.0              0.0  \n3              0.0       0.0              0.0  \n4              0.0       0.0              1.0  \n..             ...       ...              ...  \n393            0.0       0.0              1.0  \n394            0.0       0.0              1.0  \n395            0.0       0.0              0.0  \n396            0.0       0.0              1.0  \n397            0.0       0.0              0.0  \n\n[398 rows x 22 columns]",
      "text/html": "<div>\n<style scoped>\n    .dataframe tbody tr th:only-of-type {\n        vertical-align: middle;\n    }\n\n    .dataframe tbody tr th {\n        vertical-align: top;\n    }\n\n    .dataframe thead th {\n        text-align: right;\n    }\n</style>\n<table border=\"1\" class=\"dataframe\">\n  <thead>\n    <tr style=\"text-align: right;\">\n      <th></th>\n      <th>Unnamed: 0</th>\n      <th>Path</th>\n      <th>Sex</th>\n      <th>Target File</th>\n      <th>Patient</th>\n      <th>Age</th>\n      <th>Frontal/Lateral</th>\n      <th>AP/PA</th>\n      <th>No Finding</th>\n      <th>Enlarged Cardiomediastinum</th>\n      <th>...</th>\n      <th>Lung Lesion</th>\n      <th>Edema</th>\n      <th>Consolidation</th>\n      <th>Pneumonia</th>\n      <th>Atelectasis</th>\n      <th>Pneumothorax</th>\n      <th>Pleural Effusion</th>\n      <th>Pleural Other</th>\n      <th>Fracture</th>\n      <th>Support Devices</th>\n    </tr>\n  </thead>\n  <tbody>\n    <tr>\n      <th>0</th>\n      <td>185</td>\n      <td>CheXpert-v1.0/train/patient00060/study1/view1_...</td>\n      <td>Female</td>\n      <td>patient00060_study1_view1_frontal.jpg</td>\n      <td>patient00060</td>\n      <td>44</td>\n      <td>Frontal</td>\n      <td>PA</td>\n      <td>1.0</td>\n      <td>0.0</td>\n      <td>...</td>\n      <td>0.0</td>\n      <td>0.0</td>\n      <td>0.0</td>\n      <td>0.0</td>\n      <td>0.0</td>\n      <td>0.0</td>\n      <td>0.0</td>\n      <td>0.0</td>\n      <td>0.0</td>\n      <td>0.0</td>\n    </tr>\n    <tr>\n      <th>1</th>\n      <td>885</td>\n      <td>CheXpert-v1.0/train/patient00212/study1/view1_...</td>\n      <td>Female</td>\n      <td>patient00212_study1_view1_frontal.jpg</td>\n      <td>patient00212</td>\n      <td>77</td>\n      <td>Frontal</td>\n      <td>PA</td>\n      <td>0.0</td>\n      <td>0.0</td>\n      <td>...</td>\n      <td>0.0</td>\n      <td>1.0</td>\n      <td>0.0</td>\n      <td>0.0</td>\n      <td>0.0</td>\n      <td>0.0</td>\n      <td>1.0</td>\n      <td>0.0</td>\n      <td>0.0</td>\n      <td>0.0</td>\n    </tr>\n    <tr>\n      <th>2</th>\n      <td>1050</td>\n      <td>CheXpert-v1.0/train/patient00255/study5/view1_...</td>\n      <td>Female</td>\n      <td>patient00255_study5_view1_frontal.jpg</td>\n      <td>patient00255</td>\n      <td>48</td>\n      <td>Frontal</td>\n      <td>PA</td>\n      <td>0.0</td>\n      <td>0.0</td>\n      <td>...</td>\n      <td>-1.0</td>\n      <td>0.0</td>\n      <td>0.0</td>\n      <td>0.0</td>\n      <td>0.0</td>\n      <td>1.0</td>\n      <td>0.0</td>\n      <td>0.0</td>\n      <td>0.0</td>\n      <td>0.0</td>\n    </tr>\n    <tr>\n      <th>3</th>\n      <td>1218</td>\n      <td>CheXpert-v1.0/train/patient00294/study1/view1_...</td>\n      <td>Female</td>\n      <td>patient00294_study1_view1_frontal.jpg</td>\n      <td>patient00294</td>\n      <td>35</td>\n      <td>Frontal</td>\n      <td>PA</td>\n      <td>0.0</td>\n      <td>0.0</td>\n      <td>...</td>\n      <td>0.0</td>\n      <td>0.0</td>\n      <td>1.0</td>\n      <td>0.0</td>\n      <td>0.0</td>\n      <td>0.0</td>\n      <td>0.0</td>\n      <td>0.0</td>\n      <td>0.0</td>\n      <td>0.0</td>\n    </tr>\n    <tr>\n      <th>4</th>\n      <td>1465</td>\n      <td>CheXpert-v1.0/train/patient00338/study2/view1_...</td>\n      <td>Male</td>\n      <td>patient00338_study2_view1_frontal.jpg</td>\n      <td>patient00338</td>\n      <td>58</td>\n      <td>Frontal</td>\n      <td>PA</td>\n      <td>0.0</td>\n      <td>0.0</td>\n      <td>...</td>\n      <td>0.0</td>\n      <td>0.0</td>\n      <td>1.0</td>\n      <td>0.0</td>\n      <td>0.0</td>\n      <td>0.0</td>\n      <td>1.0</td>\n      <td>0.0</td>\n      <td>0.0</td>\n      <td>1.0</td>\n    </tr>\n    <tr>\n      <th>...</th>\n      <td>...</td>\n      <td>...</td>\n      <td>...</td>\n      <td>...</td>\n      <td>...</td>\n      <td>...</td>\n      <td>...</td>\n      <td>...</td>\n      <td>...</td>\n      <td>...</td>\n      <td>...</td>\n      <td>...</td>\n      <td>...</td>\n      <td>...</td>\n      <td>...</td>\n      <td>...</td>\n      <td>...</td>\n      <td>...</td>\n      <td>...</td>\n      <td>...</td>\n      <td>...</td>\n    </tr>\n    <tr>\n      <th>393</th>\n      <td>140421</td>\n      <td>CheXpert-v1.0/train/patient33738/study1/view1_...</td>\n      <td>Male</td>\n      <td>patient33738_study1_view1_frontal.jpg</td>\n      <td>patient33738</td>\n      <td>48</td>\n      <td>Frontal</td>\n      <td>PA</td>\n      <td>0.0</td>\n      <td>0.0</td>\n      <td>...</td>\n      <td>0.0</td>\n      <td>0.0</td>\n      <td>-1.0</td>\n      <td>1.0</td>\n      <td>-1.0</td>\n      <td>0.0</td>\n      <td>0.0</td>\n      <td>0.0</td>\n      <td>0.0</td>\n      <td>1.0</td>\n    </tr>\n    <tr>\n      <th>394</th>\n      <td>142102</td>\n      <td>CheXpert-v1.0/train/patient34162/study1/view1_...</td>\n      <td>Male</td>\n      <td>patient34162_study1_view1_frontal.jpg</td>\n      <td>patient34162</td>\n      <td>41</td>\n      <td>Frontal</td>\n      <td>PA</td>\n      <td>1.0</td>\n      <td>0.0</td>\n      <td>...</td>\n      <td>0.0</td>\n      <td>0.0</td>\n      <td>0.0</td>\n      <td>0.0</td>\n      <td>0.0</td>\n      <td>0.0</td>\n      <td>0.0</td>\n      <td>0.0</td>\n      <td>0.0</td>\n      <td>1.0</td>\n    </tr>\n    <tr>\n      <th>395</th>\n      <td>142952</td>\n      <td>CheXpert-v1.0/train/patient34346/study2/view1_...</td>\n      <td>Male</td>\n      <td>patient34346_study2_view1_frontal.jpg</td>\n      <td>patient34346</td>\n      <td>55</td>\n      <td>Frontal</td>\n      <td>PA</td>\n      <td>0.0</td>\n      <td>-1.0</td>\n      <td>...</td>\n      <td>0.0</td>\n      <td>0.0</td>\n      <td>0.0</td>\n      <td>0.0</td>\n      <td>0.0</td>\n      <td>0.0</td>\n      <td>-1.0</td>\n      <td>0.0</td>\n      <td>0.0</td>\n      <td>0.0</td>\n    </tr>\n    <tr>\n      <th>396</th>\n      <td>142954</td>\n      <td>CheXpert-v1.0/train/patient34346/study1/view1_...</td>\n      <td>Male</td>\n      <td>patient34346_study1_view1_frontal.jpg</td>\n      <td>patient34346</td>\n      <td>55</td>\n      <td>Frontal</td>\n      <td>PA</td>\n      <td>0.0</td>\n      <td>0.0</td>\n      <td>...</td>\n      <td>1.0</td>\n      <td>0.0</td>\n      <td>0.0</td>\n      <td>0.0</td>\n      <td>1.0</td>\n      <td>0.0</td>\n      <td>0.0</td>\n      <td>0.0</td>\n      <td>0.0</td>\n      <td>1.0</td>\n    </tr>\n    <tr>\n      <th>397</th>\n      <td>143252</td>\n      <td>CheXpert-v1.0/train/patient34423/study1/view1_...</td>\n      <td>Male</td>\n      <td>patient34423_study1_view1_frontal.jpg</td>\n      <td>patient34423</td>\n      <td>70</td>\n      <td>Frontal</td>\n      <td>PA</td>\n      <td>0.0</td>\n      <td>0.0</td>\n      <td>...</td>\n      <td>0.0</td>\n      <td>0.0</td>\n      <td>0.0</td>\n      <td>-1.0</td>\n      <td>0.0</td>\n      <td>0.0</td>\n      <td>0.0</td>\n      <td>0.0</td>\n      <td>0.0</td>\n      <td>0.0</td>\n    </tr>\n  </tbody>\n</table>\n<p>398 rows × 22 columns</p>\n</div>"
     },
     "execution_count": 4,
     "metadata": {},
     "output_type": "execute_result"
    }
   ],
   "source": [
    "data"
   ],
   "metadata": {
    "collapsed": false,
    "pycharm": {
     "name": "#%%\n"
    }
   }
  },
  {
   "cell_type": "code",
   "execution_count": 7,
   "outputs": [],
   "source": [
    "grouped = data.groupby(\"Patient\")"
   ],
   "metadata": {
    "collapsed": false,
    "pycharm": {
     "name": "#%%\n"
    }
   }
  },
  {
   "cell_type": "code",
   "execution_count": 9,
   "outputs": [
    {
     "data": {
      "text/plain": "              Unnamed: 0                                               Path  \\\nPatient                                                                       \npatient00060         185  CheXpert-v1.0/train/patient00060/study1/view1_...   \npatient00212         885  CheXpert-v1.0/train/patient00212/study1/view1_...   \npatient00255        1050  CheXpert-v1.0/train/patient00255/study5/view1_...   \npatient00294        1218  CheXpert-v1.0/train/patient00294/study1/view1_...   \npatient00338        1465  CheXpert-v1.0/train/patient00338/study2/view1_...   \n...                  ...                                                ...   \npatient33621      139988  CheXpert-v1.0/train/patient33621/study1/view1_...   \npatient33738      140421  CheXpert-v1.0/train/patient33738/study1/view1_...   \npatient34162      142102  CheXpert-v1.0/train/patient34162/study1/view1_...   \npatient34346      142952  CheXpert-v1.0/train/patient34346/study2/view1_...   \npatient34423      143252  CheXpert-v1.0/train/patient34423/study1/view1_...   \n\n                 Sex                            Target File  Age  \\\nPatient                                                            \npatient00060  Female  patient00060_study1_view1_frontal.jpg   44   \npatient00212  Female  patient00212_study1_view1_frontal.jpg   77   \npatient00255  Female  patient00255_study5_view1_frontal.jpg   48   \npatient00294  Female  patient00294_study1_view1_frontal.jpg   35   \npatient00338    Male  patient00338_study2_view1_frontal.jpg   58   \n...              ...                                    ...  ...   \npatient33621  Female  patient33621_study1_view1_frontal.jpg   24   \npatient33738    Male  patient33738_study1_view1_frontal.jpg   48   \npatient34162    Male  patient34162_study1_view1_frontal.jpg   41   \npatient34346    Male  patient34346_study2_view1_frontal.jpg   55   \npatient34423    Male  patient34423_study1_view1_frontal.jpg   70   \n\n             Frontal/Lateral AP/PA  No Finding  Enlarged Cardiomediastinum  \\\nPatient                                                                      \npatient00060         Frontal    PA         1.0                         0.0   \npatient00212         Frontal    PA         0.0                         0.0   \npatient00255         Frontal    PA         0.0                         0.0   \npatient00294         Frontal    PA         0.0                         0.0   \npatient00338         Frontal    PA         0.0                         0.0   \n...                      ...   ...         ...                         ...   \npatient33621         Frontal    PA         1.0                         0.0   \npatient33738         Frontal    PA         0.0                         0.0   \npatient34162         Frontal    PA         1.0                         0.0   \npatient34346         Frontal    PA         0.0                        -1.0   \npatient34423         Frontal    PA         0.0                         0.0   \n\n              Cardiomegaly  ...  Lung Lesion  Edema  Consolidation  Pneumonia  \\\nPatient                     ...                                                 \npatient00060           0.0  ...          0.0    0.0            0.0        0.0   \npatient00212           1.0  ...          0.0    1.0            0.0        0.0   \npatient00255           0.0  ...         -1.0    0.0            0.0        0.0   \npatient00294          -1.0  ...          0.0    0.0            1.0        0.0   \npatient00338           0.0  ...          0.0    0.0            1.0        0.0   \n...                    ...  ...          ...    ...            ...        ...   \npatient33621           0.0  ...          0.0    0.0            0.0        0.0   \npatient33738           0.0  ...          0.0    0.0           -1.0        1.0   \npatient34162           0.0  ...          0.0    0.0            0.0        0.0   \npatient34346           0.0  ...          0.0    0.0            0.0        0.0   \npatient34423           0.0  ...          0.0    0.0            0.0       -1.0   \n\n              Atelectasis  Pneumothorax  Pleural Effusion  Pleural Other  \\\nPatient                                                                    \npatient00060          0.0           0.0               0.0            0.0   \npatient00212          0.0           0.0               1.0            0.0   \npatient00255          0.0           1.0               0.0            0.0   \npatient00294          0.0           0.0               0.0            0.0   \npatient00338          0.0           0.0               1.0            0.0   \n...                   ...           ...               ...            ...   \npatient33621          0.0           0.0               0.0            0.0   \npatient33738         -1.0           0.0               0.0            0.0   \npatient34162          0.0           0.0               0.0            0.0   \npatient34346          0.0           0.0              -1.0            0.0   \npatient34423          0.0           0.0               0.0            0.0   \n\n              Fracture  Support Devices  \nPatient                                  \npatient00060       0.0              0.0  \npatient00212       0.0              0.0  \npatient00255       0.0              0.0  \npatient00294       0.0              0.0  \npatient00338       0.0              1.0  \n...                ...              ...  \npatient33621       0.0              0.0  \npatient33738       0.0              1.0  \npatient34162       0.0              1.0  \npatient34346       0.0              0.0  \npatient34423       0.0              0.0  \n\n[289 rows x 21 columns]",
      "text/html": "<div>\n<style scoped>\n    .dataframe tbody tr th:only-of-type {\n        vertical-align: middle;\n    }\n\n    .dataframe tbody tr th {\n        vertical-align: top;\n    }\n\n    .dataframe thead th {\n        text-align: right;\n    }\n</style>\n<table border=\"1\" class=\"dataframe\">\n  <thead>\n    <tr style=\"text-align: right;\">\n      <th></th>\n      <th>Unnamed: 0</th>\n      <th>Path</th>\n      <th>Sex</th>\n      <th>Target File</th>\n      <th>Age</th>\n      <th>Frontal/Lateral</th>\n      <th>AP/PA</th>\n      <th>No Finding</th>\n      <th>Enlarged Cardiomediastinum</th>\n      <th>Cardiomegaly</th>\n      <th>...</th>\n      <th>Lung Lesion</th>\n      <th>Edema</th>\n      <th>Consolidation</th>\n      <th>Pneumonia</th>\n      <th>Atelectasis</th>\n      <th>Pneumothorax</th>\n      <th>Pleural Effusion</th>\n      <th>Pleural Other</th>\n      <th>Fracture</th>\n      <th>Support Devices</th>\n    </tr>\n    <tr>\n      <th>Patient</th>\n      <th></th>\n      <th></th>\n      <th></th>\n      <th></th>\n      <th></th>\n      <th></th>\n      <th></th>\n      <th></th>\n      <th></th>\n      <th></th>\n      <th></th>\n      <th></th>\n      <th></th>\n      <th></th>\n      <th></th>\n      <th></th>\n      <th></th>\n      <th></th>\n      <th></th>\n      <th></th>\n      <th></th>\n    </tr>\n  </thead>\n  <tbody>\n    <tr>\n      <th>patient00060</th>\n      <td>185</td>\n      <td>CheXpert-v1.0/train/patient00060/study1/view1_...</td>\n      <td>Female</td>\n      <td>patient00060_study1_view1_frontal.jpg</td>\n      <td>44</td>\n      <td>Frontal</td>\n      <td>PA</td>\n      <td>1.0</td>\n      <td>0.0</td>\n      <td>0.0</td>\n      <td>...</td>\n      <td>0.0</td>\n      <td>0.0</td>\n      <td>0.0</td>\n      <td>0.0</td>\n      <td>0.0</td>\n      <td>0.0</td>\n      <td>0.0</td>\n      <td>0.0</td>\n      <td>0.0</td>\n      <td>0.0</td>\n    </tr>\n    <tr>\n      <th>patient00212</th>\n      <td>885</td>\n      <td>CheXpert-v1.0/train/patient00212/study1/view1_...</td>\n      <td>Female</td>\n      <td>patient00212_study1_view1_frontal.jpg</td>\n      <td>77</td>\n      <td>Frontal</td>\n      <td>PA</td>\n      <td>0.0</td>\n      <td>0.0</td>\n      <td>1.0</td>\n      <td>...</td>\n      <td>0.0</td>\n      <td>1.0</td>\n      <td>0.0</td>\n      <td>0.0</td>\n      <td>0.0</td>\n      <td>0.0</td>\n      <td>1.0</td>\n      <td>0.0</td>\n      <td>0.0</td>\n      <td>0.0</td>\n    </tr>\n    <tr>\n      <th>patient00255</th>\n      <td>1050</td>\n      <td>CheXpert-v1.0/train/patient00255/study5/view1_...</td>\n      <td>Female</td>\n      <td>patient00255_study5_view1_frontal.jpg</td>\n      <td>48</td>\n      <td>Frontal</td>\n      <td>PA</td>\n      <td>0.0</td>\n      <td>0.0</td>\n      <td>0.0</td>\n      <td>...</td>\n      <td>-1.0</td>\n      <td>0.0</td>\n      <td>0.0</td>\n      <td>0.0</td>\n      <td>0.0</td>\n      <td>1.0</td>\n      <td>0.0</td>\n      <td>0.0</td>\n      <td>0.0</td>\n      <td>0.0</td>\n    </tr>\n    <tr>\n      <th>patient00294</th>\n      <td>1218</td>\n      <td>CheXpert-v1.0/train/patient00294/study1/view1_...</td>\n      <td>Female</td>\n      <td>patient00294_study1_view1_frontal.jpg</td>\n      <td>35</td>\n      <td>Frontal</td>\n      <td>PA</td>\n      <td>0.0</td>\n      <td>0.0</td>\n      <td>-1.0</td>\n      <td>...</td>\n      <td>0.0</td>\n      <td>0.0</td>\n      <td>1.0</td>\n      <td>0.0</td>\n      <td>0.0</td>\n      <td>0.0</td>\n      <td>0.0</td>\n      <td>0.0</td>\n      <td>0.0</td>\n      <td>0.0</td>\n    </tr>\n    <tr>\n      <th>patient00338</th>\n      <td>1465</td>\n      <td>CheXpert-v1.0/train/patient00338/study2/view1_...</td>\n      <td>Male</td>\n      <td>patient00338_study2_view1_frontal.jpg</td>\n      <td>58</td>\n      <td>Frontal</td>\n      <td>PA</td>\n      <td>0.0</td>\n      <td>0.0</td>\n      <td>0.0</td>\n      <td>...</td>\n      <td>0.0</td>\n      <td>0.0</td>\n      <td>1.0</td>\n      <td>0.0</td>\n      <td>0.0</td>\n      <td>0.0</td>\n      <td>1.0</td>\n      <td>0.0</td>\n      <td>0.0</td>\n      <td>1.0</td>\n    </tr>\n    <tr>\n      <th>...</th>\n      <td>...</td>\n      <td>...</td>\n      <td>...</td>\n      <td>...</td>\n      <td>...</td>\n      <td>...</td>\n      <td>...</td>\n      <td>...</td>\n      <td>...</td>\n      <td>...</td>\n      <td>...</td>\n      <td>...</td>\n      <td>...</td>\n      <td>...</td>\n      <td>...</td>\n      <td>...</td>\n      <td>...</td>\n      <td>...</td>\n      <td>...</td>\n      <td>...</td>\n      <td>...</td>\n    </tr>\n    <tr>\n      <th>patient33621</th>\n      <td>139988</td>\n      <td>CheXpert-v1.0/train/patient33621/study1/view1_...</td>\n      <td>Female</td>\n      <td>patient33621_study1_view1_frontal.jpg</td>\n      <td>24</td>\n      <td>Frontal</td>\n      <td>PA</td>\n      <td>1.0</td>\n      <td>0.0</td>\n      <td>0.0</td>\n      <td>...</td>\n      <td>0.0</td>\n      <td>0.0</td>\n      <td>0.0</td>\n      <td>0.0</td>\n      <td>0.0</td>\n      <td>0.0</td>\n      <td>0.0</td>\n      <td>0.0</td>\n      <td>0.0</td>\n      <td>0.0</td>\n    </tr>\n    <tr>\n      <th>patient33738</th>\n      <td>140421</td>\n      <td>CheXpert-v1.0/train/patient33738/study1/view1_...</td>\n      <td>Male</td>\n      <td>patient33738_study1_view1_frontal.jpg</td>\n      <td>48</td>\n      <td>Frontal</td>\n      <td>PA</td>\n      <td>0.0</td>\n      <td>0.0</td>\n      <td>0.0</td>\n      <td>...</td>\n      <td>0.0</td>\n      <td>0.0</td>\n      <td>-1.0</td>\n      <td>1.0</td>\n      <td>-1.0</td>\n      <td>0.0</td>\n      <td>0.0</td>\n      <td>0.0</td>\n      <td>0.0</td>\n      <td>1.0</td>\n    </tr>\n    <tr>\n      <th>patient34162</th>\n      <td>142102</td>\n      <td>CheXpert-v1.0/train/patient34162/study1/view1_...</td>\n      <td>Male</td>\n      <td>patient34162_study1_view1_frontal.jpg</td>\n      <td>41</td>\n      <td>Frontal</td>\n      <td>PA</td>\n      <td>1.0</td>\n      <td>0.0</td>\n      <td>0.0</td>\n      <td>...</td>\n      <td>0.0</td>\n      <td>0.0</td>\n      <td>0.0</td>\n      <td>0.0</td>\n      <td>0.0</td>\n      <td>0.0</td>\n      <td>0.0</td>\n      <td>0.0</td>\n      <td>0.0</td>\n      <td>1.0</td>\n    </tr>\n    <tr>\n      <th>patient34346</th>\n      <td>142952</td>\n      <td>CheXpert-v1.0/train/patient34346/study2/view1_...</td>\n      <td>Male</td>\n      <td>patient34346_study2_view1_frontal.jpg</td>\n      <td>55</td>\n      <td>Frontal</td>\n      <td>PA</td>\n      <td>0.0</td>\n      <td>-1.0</td>\n      <td>0.0</td>\n      <td>...</td>\n      <td>0.0</td>\n      <td>0.0</td>\n      <td>0.0</td>\n      <td>0.0</td>\n      <td>0.0</td>\n      <td>0.0</td>\n      <td>-1.0</td>\n      <td>0.0</td>\n      <td>0.0</td>\n      <td>0.0</td>\n    </tr>\n    <tr>\n      <th>patient34423</th>\n      <td>143252</td>\n      <td>CheXpert-v1.0/train/patient34423/study1/view1_...</td>\n      <td>Male</td>\n      <td>patient34423_study1_view1_frontal.jpg</td>\n      <td>70</td>\n      <td>Frontal</td>\n      <td>PA</td>\n      <td>0.0</td>\n      <td>0.0</td>\n      <td>0.0</td>\n      <td>...</td>\n      <td>0.0</td>\n      <td>0.0</td>\n      <td>0.0</td>\n      <td>-1.0</td>\n      <td>0.0</td>\n      <td>0.0</td>\n      <td>0.0</td>\n      <td>0.0</td>\n      <td>0.0</td>\n      <td>0.0</td>\n    </tr>\n  </tbody>\n</table>\n<p>289 rows × 21 columns</p>\n</div>"
     },
     "execution_count": 9,
     "metadata": {},
     "output_type": "execute_result"
    }
   ],
   "source": [
    "grouped.first()"
   ],
   "metadata": {
    "collapsed": false,
    "pycharm": {
     "name": "#%%\n"
    }
   }
  },
  {
   "cell_type": "code",
   "execution_count": null,
   "outputs": [],
   "source": [],
   "metadata": {
    "collapsed": false,
    "pycharm": {
     "name": "#%%\n"
    }
   }
  }
 ],
 "metadata": {
  "kernelspec": {
   "display_name": "Python 3",
   "language": "python",
   "name": "python3"
  },
  "language_info": {
   "codemirror_mode": {
    "name": "ipython",
    "version": 2
   },
   "file_extension": ".py",
   "mimetype": "text/x-python",
   "name": "python",
   "nbconvert_exporter": "python",
   "pygments_lexer": "ipython2",
   "version": "2.7.6"
  }
 },
 "nbformat": 4,
 "nbformat_minor": 0
}